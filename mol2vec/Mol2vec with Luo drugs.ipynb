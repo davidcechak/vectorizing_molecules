{
 "cells": [
  {
   "cell_type": "markdown",
   "metadata": {},
   "source": [
    "# Basic concepts of Mol2vec\n",
    "\n",
    "This notebook covers basic concepts of [Mol2vec](https://chemrxiv.org/articles/Mol2vec_Unsupervised_Machine_Learning_Approach_with_Chemical_Intuition/5513581) from generation of \"molecular sentences\" to plotting embeddings obtained with Mol2vec.\n",
    "* [Encoding substructures of a molecule as words](#Encoding-substructures-of-a-molecule-as-words)\n",
    "* [Exploring Mol2vec embeddings](#Exploring-Mol2vec-embeddings)\n",
    "* [Plotting of an amino acid (ALA) substructure vectors](#Plotting-of-an-amino-acid-%28ALA%29-substructure-vectors)\n",
    "* [Plotting all amino acids in grid plot](#Plotting-all-amino-acids-in-grid-plot)\n"
   ]
  },
  {
   "cell_type": "code",
   "execution_count": 1,
   "metadata": {
    "tags": []
   },
   "outputs": [],
   "source": [
    "%matplotlib inline"
   ]
  },
  {
   "cell_type": "code",
   "execution_count": 2,
   "metadata": {
    "tags": []
   },
   "outputs": [],
   "source": [
    "import numpy as np\n",
    "import pandas as pd\n",
    "from rdkit import Chem\n",
    "from rdkit.Chem import AllChem\n",
    "from rdkit.Chem import Draw\n",
    "from rdkit.Chem import PandasTools\n",
    "from rdkit.Chem.Draw import IPythonConsole\n",
    "import matplotlib.pyplot as plt\n",
    "import seaborn as sns\n",
    "from mol2vec.features import mol2alt_sentence, MolSentence, DfVec, sentences2vec\n",
    "from mol2vec.helpers import depict_identifier, plot_2D_vectors, IdentifierTable, mol_to_svg"
   ]
  },
  {
   "cell_type": "code",
   "execution_count": 3,
   "metadata": {},
   "outputs": [],
   "source": [
    "import urllib3\n",
    "import json\n",
    "import traceback\n",
    "import xmltodict\n",
    "from datetime import datetime"
   ]
  },
  {
   "cell_type": "markdown",
   "metadata": {},
   "source": [
    "### Settings"
   ]
  },
  {
   "cell_type": "code",
   "execution_count": 4,
   "metadata": {},
   "outputs": [],
   "source": [
    "PROT = False\n",
    "SAVE = True"
   ]
  },
  {
   "cell_type": "markdown",
   "metadata": {},
   "source": [
    "### Get list of Luo dataset IDs"
   ]
  },
  {
   "cell_type": "code",
   "execution_count": 5,
   "metadata": {},
   "outputs": [],
   "source": [
    "if(PROT):\n",
    "    luo_url = 'https://raw.githubusercontent.com/luoyunan/DTINet/master/data/protein.txt'\n",
    "else:\n",
    "    luo_url = 'https://raw.githubusercontent.com/luoyunan/DTINet/master/data/drug.txt'\n",
    "http = urllib3.PoolManager()\n",
    "response = http.request('GET', luo_url)"
   ]
  },
  {
   "cell_type": "code",
   "execution_count": 6,
   "metadata": {},
   "outputs": [
    {
     "data": {
      "text/plain": [
       "708"
      ]
     },
     "execution_count": 6,
     "metadata": {},
     "output_type": "execute_result"
    }
   ],
   "source": [
    "luo_ids = response.data.decode().split(\"\\n\")\n",
    "luo_ids = list(filter(None, luo_ids))\n",
    "len(luo_ids)"
   ]
  },
  {
   "cell_type": "markdown",
   "metadata": {},
   "source": [
    "### Get SMILES from pubchem\n",
    "https://www.biostars.org/p/271718/"
   ]
  },
  {
   "cell_type": "code",
   "execution_count": 7,
   "metadata": {},
   "outputs": [],
   "source": [
    "def getxml(drug_url):\n",
    "    # url = \"https://yoursite/your.xml\"\n",
    "\n",
    "    http = urllib3.PoolManager()\n",
    "\n",
    "    response = http.request('GET', drug_url)\n",
    "    try:\n",
    "        data = xmltodict.parse(response.data)\n",
    "    except:\n",
    "        print(\"Failed to parse xml from response (%s)\" % traceback.format_exc())\n",
    "    if 'Fault' in data.keys():\n",
    "        print(\"Code: {code}, \\nMessage: {message}, \\nDetails: {details} : ({trace})\"\n",
    "              .format(trace = traceback.format_exc(),\n",
    "                      code = data['Fault']['Code'],\n",
    "                      message = data['Fault']['Message'],\n",
    "                      details = data['Fault']['Details'],\n",
    "                     )\n",
    "             )\n",
    "    return data"
   ]
  },
  {
   "cell_type": "code",
   "execution_count": 8,
   "metadata": {},
   "outputs": [
    {
     "name": "stdout",
     "output_type": "stream",
     "text": [
      "https://pubchem.ncbi.nlm.nih.gov/rest/pug/substance/sourceid/drugbank/DB01030/XML\n",
      "dict_keys(['PC-Substances'])\n"
     ]
    }
   ],
   "source": [
    "# TODOs\n",
    "# make the get_smiles code into a function: get_smiles(id) -> smiles\n",
    "# save smiles into a file of appropriate format \n",
    "\n",
    "# PSEUDOCODE\n",
    "# for each drug id in Luo datasets do:\n",
    "drug_id = 'DB01030'\n",
    "drug_url = \"https://pubchem.ncbi.nlm.nih.gov/rest/pug/substance/sourceid/drugbank/{id}/XML\".format(id = drug_id)\n",
    "print(drug_url)\n",
    "page_xml_drug = getxml(drug_url)\n",
    "print(page_xml_drug.keys())"
   ]
  },
  {
   "cell_type": "code",
   "execution_count": 9,
   "metadata": {},
   "outputs": [
    {
     "data": {
      "text/plain": [
       "'60700'"
      ]
     },
     "execution_count": 9,
     "metadata": {},
     "output_type": "execute_result"
    }
   ],
   "source": [
    "drug_pubchem_id = page_xml_drug['PC-Substances']\\\n",
    "    ['PC-Substance']\\\n",
    "    ['PC-Substance_compound']\\\n",
    "    ['PC-Compounds']\\\n",
    "    ['PC-Compound'][-1]\\\n",
    "    ['PC-Compound_id']\\\n",
    "    ['PC-CompoundType']\\\n",
    "    ['PC-CompoundType_id']\\\n",
    "    ['PC-CompoundType_id_cid']\n",
    "drug_pubchem_id"
   ]
  },
  {
   "cell_type": "code",
   "execution_count": 10,
   "metadata": {},
   "outputs": [
    {
     "data": {
      "text/plain": [
       "'https://pubchem.ncbi.nlm.nih.gov/rest/pug/compound/cid/60700/XML'"
      ]
     },
     "execution_count": 10,
     "metadata": {},
     "output_type": "execute_result"
    }
   ],
   "source": [
    "smiles_url = \"https://pubchem.ncbi.nlm.nih.gov/rest/pug/compound/cid/{pubchem_id}/XML\".format(pubchem_id = drug_pubchem_id)\n",
    "smiles_url"
   ]
  },
  {
   "cell_type": "code",
   "execution_count": 11,
   "metadata": {},
   "outputs": [],
   "source": [
    "page_xml_smiles = getxml(smiles_url)"
   ]
  },
  {
   "cell_type": "code",
   "execution_count": 12,
   "metadata": {},
   "outputs": [
    {
     "name": "stdout",
     "output_type": "stream",
     "text": [
      "CCC1(C2=C(COC1=O)C(=O)N3CC4=CC5=C(C=CC(=C5CN(C)C)O)N=C4C3=C2)O\n"
     ]
    }
   ],
   "source": [
    "xml_smiles_infodata = page_xml_smiles['PC-Compounds']['PC-Compound']['PC-Compound_props']['PC-InfoData']\n",
    "\n",
    "for info_data in xml_smiles_infodata:\n",
    "    # print(info_data['PC-InfoData_urn']['PC-Urn']['PC-Urn_label'])\n",
    "    if info_data['PC-InfoData_urn']['PC-Urn']['PC-Urn_label'] == 'SMILES':\n",
    "        if info_data['PC-InfoData_urn']['PC-Urn']['PC-Urn_name'] == 'Canonical':\n",
    "            print(info_data['PC-InfoData_value']['PC-InfoData_value_sval'])"
   ]
  },
  {
   "cell_type": "markdown",
   "metadata": {},
   "source": [
    "### Get SMILES for all Luo drugs"
   ]
  },
  {
   "cell_type": "code",
   "execution_count": 13,
   "metadata": {},
   "outputs": [],
   "source": [
    "def get_smiles_by_luo_id(drug_luo_id):\n",
    "#     get pubchem drug xml\n",
    "    drug_url = \"https://pubchem.ncbi.nlm.nih.gov/rest/pug/substance/sourceid/drugbank/{id}/XML\".format(id = drug_luo_id)\n",
    "    page_xml_drug = getxml(drug_url)\n",
    "    \n",
    "#     get pubchem drug ID\n",
    "    drug_pubchem_id = page_xml_drug['PC-Substances']\\\n",
    "        ['PC-Substance']\\\n",
    "        ['PC-Substance_compound']\\\n",
    "        ['PC-Compounds']\\\n",
    "        ['PC-Compound'][-1]\\\n",
    "        ['PC-Compound_id']\\\n",
    "        ['PC-CompoundType']\\\n",
    "        ['PC-CompoundType_id']\\\n",
    "        ['PC-CompoundType_id_cid']\n",
    "    \n",
    "#     get pubchem drug xml containing SMILES\n",
    "    smiles_url = \"https://pubchem.ncbi.nlm.nih.gov/rest/pug/compound/cid/{pubchem_id}/XML\".format(pubchem_id = drug_pubchem_id)\n",
    "    page_xml_smiles = getxml(smiles_url)    \n",
    "    \n",
    "#     get SMILES from xml\n",
    "    xml_smiles_infodata = page_xml_smiles['PC-Compounds']['PC-Compound']['PC-Compound_props']['PC-InfoData']\n",
    "\n",
    "    for info_data in xml_smiles_infodata:\n",
    "        # print(info_data['PC-InfoData_urn']['PC-Urn']['PC-Urn_label'])\n",
    "        if info_data['PC-InfoData_urn']['PC-Urn']['PC-Urn_label'] == 'SMILES':\n",
    "            if info_data['PC-InfoData_urn']['PC-Urn']['PC-Urn_name'] == 'Canonical':\n",
    "                smiles = info_data['PC-InfoData_value']['PC-InfoData_value_sval']\n",
    "    \n",
    "    return smiles\n",
    "\n",
    "if(PROT):\n",
    "    pass\n",
    "else:\n",
    "    get_smiles_by_luo_id(luo_ids[0])\n",
    "# todo build dictionary {ID:SMILES}"
   ]
  },
  {
   "cell_type": "code",
   "execution_count": 14,
   "metadata": {},
   "outputs": [],
   "source": [
    "def get_smiles_by_drug_page_xml(page_xml_drug):\n",
    "# NOT necessary now - is done in the code before this func\n",
    "    #     get pubchem drug xml\n",
    "    # drug_url = \"https://pubchem.ncbi.nlm.nih.gov/rest/pug/substance/sourceid/drugbank/{id}/XML\".format(id = drug_luo_id)\n",
    "    # page_xml_drug = getxml(drug_url)\n",
    "    \n",
    "#     get pubchem drug ID\n",
    "    drug_pubchem_id = page_xml_drug['PC-Substances']\\\n",
    "        ['PC-Substance']\\\n",
    "        ['PC-Substance_compound']\\\n",
    "        ['PC-Compounds']\\\n",
    "        ['PC-Compound'][-1]\\\n",
    "        ['PC-Compound_id']\\\n",
    "        ['PC-CompoundType']\\\n",
    "        ['PC-CompoundType_id']\\\n",
    "        ['PC-CompoundType_id_cid']\n",
    "    \n",
    "#     get pubchem drug xml containing SMILES\n",
    "    smiles_url = \"https://pubchem.ncbi.nlm.nih.gov/rest/pug/compound/cid/{pubchem_id}/XML\".format(pubchem_id = drug_pubchem_id)\n",
    "    page_xml_smiles = getxml(smiles_url)    \n",
    "    \n",
    "#     get SMILES from xml\n",
    "    xml_smiles_infodata = page_xml_smiles['PC-Compounds']['PC-Compound']['PC-Compound_props']['PC-InfoData']\n",
    "\n",
    "    for info_data in xml_smiles_infodata:\n",
    "        # print(info_data['PC-InfoData_urn']['PC-Urn']['PC-Urn_label'])\n",
    "        if info_data['PC-InfoData_urn']['PC-Urn']['PC-Urn_label'] == 'SMILES':\n",
    "            if info_data['PC-InfoData_urn']['PC-Urn']['PC-Urn_name'] == 'Canonical':\n",
    "                smiles = info_data['PC-InfoData_value']['PC-InfoData_value_sval']\n",
    "    \n",
    "    return smiles"
   ]
  },
  {
   "cell_type": "code",
   "execution_count": 15,
   "metadata": {},
   "outputs": [
    {
     "name": "stdout",
     "output_type": "stream",
     "text": [
      "2022-11-20 11:30:27.508182\n",
      "Code: PUGREST.BadRequest, \n",
      "Message: Invalid identifier, \n",
      "Details: Expected a valid identifier for the given source : (NoneType: None\n",
      ")\n",
      "705\n",
      "2022-11-20 11:44:59.785878\n"
     ]
    }
   ],
   "source": [
    "print(datetime.now())\n",
    "\n",
    "def get_all_smiles_by_ids(luo_ids_to_get):\n",
    "    # set up\n",
    "    id_to_smiles = {}\n",
    "    errors = {}\n",
    "    errors['bad_request'] = [] # DB01258\n",
    "    errors['no_substances'] = [] # nothing so far\n",
    "    errors['no_substance_compound'] = [] # DB00375\n",
    "\n",
    "    for drug_id in luo_ids_to_get:\n",
    "        # print(drug_id)\n",
    "    #     get pubchem drug xml\n",
    "        drug_url = \"https://pubchem.ncbi.nlm.nih.gov/rest/pug/substance/sourceid/drugbank/{id}/XML\".format(id = drug_id)\n",
    "        page_xml_drug = getxml(drug_url)\n",
    "        \n",
    "        if 'Fault' in page_xml_drug.keys():\n",
    "            errors['bad_request'].append({str(drug_id): page_xml_drug})\n",
    "\n",
    "        if 'PC-Substances' not in page_xml_drug.keys():\n",
    "            errors['no_substances'].append(drug_id)\n",
    "            \n",
    "        elif 'PC-Substance_compound' not in page_xml_drug['PC-Substances']['PC-Substance'].keys():\n",
    "            errors['no_substance_compound'].append(drug_id)\n",
    "            \n",
    "        else:\n",
    "            drug_smiles = get_smiles_by_drug_page_xml(page_xml_drug)\n",
    "            id_to_smiles[str(drug_id)] = drug_smiles\n",
    "            \n",
    "    return id_to_smiles, errors\n",
    "\n",
    "# TODO uncomment for SMILES collection\n",
    "id_to_smiles, processing_errors = get_all_smiles_by_ids(luo_ids)\n",
    "print(len(id_to_smiles))\n",
    "\n",
    "print(datetime.now())"
   ]
  },
  {
   "cell_type": "markdown",
   "metadata": {},
   "source": [
    "### Not all SMILES are in the pubchem DB"
   ]
  },
  {
   "cell_type": "code",
   "execution_count": 16,
   "metadata": {},
   "outputs": [
    {
     "data": {
      "text/plain": [
       "708"
      ]
     },
     "execution_count": 16,
     "metadata": {},
     "output_type": "execute_result"
    }
   ],
   "source": [
    "len(luo_ids)"
   ]
  },
  {
   "cell_type": "code",
   "execution_count": 17,
   "metadata": {},
   "outputs": [
    {
     "name": "stdout",
     "output_type": "stream",
     "text": [
      "705\n"
     ]
    }
   ],
   "source": [
    "print(len(id_to_smiles))"
   ]
  },
  {
   "cell_type": "code",
   "execution_count": 18,
   "metadata": {},
   "outputs": [
    {
     "data": {
      "text/plain": [
       "{'bad_request': [{'DB01258': {'Fault': {'@xmlns': 'http://pubchem.ncbi.nlm.nih.gov/pug_rest',\n",
       "     '@xmlns:xs': 'http://www.w3.org/2001/XMLSchema-instance',\n",
       "     '@xs:schemaLocation': 'http://pubchem.ncbi.nlm.nih.gov/pug_rest https://pubchem.ncbi.nlm.nih.gov/pug_rest/pug_rest.xsd',\n",
       "     'Code': 'PUGREST.BadRequest',\n",
       "     'Message': 'Invalid identifier',\n",
       "     'Details': 'Expected a valid identifier for the given source'}}}],\n",
       " 'no_substances': ['DB01258'],\n",
       " 'no_substance_compound': ['DB00375', 'DB00994']}"
      ]
     },
     "execution_count": 18,
     "metadata": {},
     "output_type": "execute_result"
    }
   ],
   "source": [
    "processing_errors"
   ]
  },
  {
   "cell_type": "code",
   "execution_count": 19,
   "metadata": {},
   "outputs": [],
   "source": [
    "hard_coded_smiles = {\n",
    "    'DB01258': 'COCCCOC1=C(OC)C=CC(C[C@@H](C[C@H](N)[C@@H](O)C[C@@H](C(C)C)C(=O)NCC(C)(C)C(N)=O)C(C)C)=C1',\n",
    "    'DB00375': 'C1C(O1)CCl.C(CNCCNCCNCCN)N',\n",
    "    'DB00994': 'O([C@H]3[C@H](O[C@@H]2O[C@H](CO)[C@@H](O[C@H]1O[C@@H](CN)[C@@H](O)[C@H](O)[C@H]1N)[C@H]2O)[C@@H](O)[C@H](N)C[C@@H]3N)[C@H]4O[C@@H]([C@@H](O)[C@H](O)[C@H]4N)CN',\n",
    "}"
   ]
  },
  {
   "cell_type": "code",
   "execution_count": 20,
   "metadata": {},
   "outputs": [],
   "source": [
    "for key in hard_coded_smiles.keys():\n",
    "    id_to_smiles[key] = hard_coded_smiles[key]"
   ]
  },
  {
   "cell_type": "code",
   "execution_count": 21,
   "metadata": {},
   "outputs": [
    {
     "data": {
      "text/plain": [
       "708"
      ]
     },
     "execution_count": 21,
     "metadata": {},
     "output_type": "execute_result"
    }
   ],
   "source": [
    "len(id_to_smiles)"
   ]
  },
  {
   "cell_type": "code",
   "execution_count": 22,
   "metadata": {},
   "outputs": [],
   "source": [
    "def get_all_protein_by_ids(luo_ids_to_get):\n",
    "    luo_id_to_seq = {}\n",
    "    errors = {}\n",
    "    \n",
    "    \n",
    "    \n",
    "    return luo_id_to_seq, errors\n",
    "# id_to_seq, processing_errors = get_all_seqs_by_ids(luo_ids)"
   ]
  },
  {
   "cell_type": "code",
   "execution_count": 23,
   "metadata": {},
   "outputs": [
    {
     "name": "stdout",
     "output_type": "stream",
     "text": [
      "{'bad_request': [{'DB01258': {'Fault': {'@xmlns': 'http://pubchem.ncbi.nlm.nih.gov/pug_rest', '@xmlns:xs': 'http://www.w3.org/2001/XMLSchema-instance', '@xs:schemaLocation': 'http://pubchem.ncbi.nlm.nih.gov/pug_rest https://pubchem.ncbi.nlm.nih.gov/pug_rest/pug_rest.xsd', 'Code': 'PUGREST.BadRequest', 'Message': 'Invalid identifier', 'Details': 'Expected a valid identifier for the given source'}}}], 'no_substances': ['DB01258'], 'no_substance_compound': ['DB00375', 'DB00994']}\n"
     ]
    }
   ],
   "source": [
    "# save errors\n",
    "if(SAVE):\n",
    "   json.dump(processing_errors, open(\"errors.txt\",'w'))\n",
    "\n",
    "# load errors #TODO probably not correct (bad_request and no_substances), DB01258 should probably be bad_request \n",
    "processing_errors = json.load(open(\"errors.txt\"))\n",
    "print(processing_errors)"
   ]
  },
  {
   "cell_type": "markdown",
   "metadata": {},
   "source": [
    "### Save id_to_smiles mapping to a file"
   ]
  },
  {
   "cell_type": "code",
   "execution_count": 24,
   "metadata": {},
   "outputs": [],
   "source": [
    "if(SAVE):\n",
    "   json.dump(id_to_smiles, open(\"id_to_smiles.txt\",'w'))"
   ]
  },
  {
   "cell_type": "markdown",
   "metadata": {},
   "source": [
    "### Load id_to_smiles mapping from a file"
   ]
  },
  {
   "cell_type": "code",
   "execution_count": 25,
   "metadata": {},
   "outputs": [
    {
     "name": "stdout",
     "output_type": "stream",
     "text": [
      "708\n"
     ]
    }
   ],
   "source": [
    "id_to_smiles = json.load(open(\"id_to_smiles.txt\"))\n",
    "print(len(id_to_smiles))"
   ]
  },
  {
   "cell_type": "markdown",
   "metadata": {},
   "source": [
    "### Map SMILES with mol2vec\n",
    "- TODO process id_to_smiles dict into a appropriate dataset object\n",
    "- TODO map proteins in the similar way\n",
    "- TODO chembl or zink to find \"different canonical SMILES' formes\" to fix the \"missing in the vocab problem\""
   ]
  },
  {
   "cell_type": "code",
   "execution_count": 26,
   "metadata": {},
   "outputs": [],
   "source": [
    "# id_to_smiles['DB00050']\n",
    "if(PROT):\n",
    "    smiles_in_order = ['Q9UI32']\n",
    "else:\n",
    "    smiles_in_order = list(id_to_smiles.values())\n",
    "    "
   ]
  },
  {
   "cell_type": "code",
   "execution_count": 27,
   "metadata": {},
   "outputs": [
    {
     "name": "stdout",
     "output_type": "stream",
     "text": [
      "708\n",
      "708\n"
     ]
    }
   ],
   "source": [
    "from gensim.models import word2vec\n",
    "\n",
    "# model.wv.get_vector('2246728737')\n",
    "\n",
    "# Switch to proteins\n",
    "if(PROT):\n",
    "    prot_sample = 'MRSMKALQKALSRAGSHCGRGGWGHPSRSPLLGGGVRHHLSEAAAQGRETPHSHQPQHQDHDSSESGMLSRLGDLLFYTIAEGQERIPIHKFTTALKATGLQTSDPRLRDCMSEMHRVVQESSSGGLLDRDLFRKCVSSNIVLLTQAFRKKFVIPDFEEFTGHVDRIFEDVKELTGGKVAAYIPQLAKSNPDLWGVSLCTVDGQRHSVGHTKIPFCLQSCVKPLTYAISISTLGTDYVHKFVGKEPSGLRYNKLSLNEEGIPHNPMVNAGAIVVSSLIKMDCNKAEKFDFVLQYLNKMAGNEYMGFSNATFQSEKETGDRNYAIGYYLKEKKCFPKGVDMMAALDLYFQLCSVEVTCESGSVMAATLANGGICPITGESVLSAEAVRNTLSLMHSCGMYDFSGQFAFHVGLPAKSAVSGAILLVVPNVMGMMCLSPPLDKLGNSHRGTSFCQKLVSLFNFHNYDNLRHCARKLDPRREGAEIRNKTVVNLLFAAYSGDVSALRRFALSAMDMEQKDYDSRTALHVAAAEGHIEVVKFLIEACKVNPFAKDRWGNIPLDDAVQFNHLEVVKLLQDYQDSYTLSETQAEAAAEALSKENLESMV'\n",
    "    # protein_mols = [Chem.MolFromSequence(prot_sample)]\n",
    "\n",
    "\n",
    "id_to_vec = {}\n",
    "\n",
    "model = word2vec.Word2Vec.load('mol2vec/examples/models/model_300dim.pkl')\n",
    "\n",
    "# aa_smis = smiles_in_order\n",
    "if(PROT):\n",
    "    chem_mols = [Chem.MolFromSequence(prot_sample)]\n",
    "else:\n",
    "    chem_mols = [Chem.MolFromSmiles(x) for x in smiles_in_order]\n",
    "print(len(chem_mols))\n",
    "\n",
    "sentences = [mol2alt_sentence(x, 1) for x in chem_mols]\n",
    "print(len(sentences))\n",
    "\n",
    "# flat_list = [item for sublist in sentences for item in sublist]\n",
    "# print(len(flat_list))\n",
    "# aa_identifiers_unique = set(flat_list)\n",
    "# print(len(aa_identifiers_unique))\n",
    "\n",
    "# df_vec = pd.DataFrame()\n",
    "# df_vec['identifier'] = list(aa_identifiers_unique)\n",
    "# df_vec.index = df_vec['identifier']\n",
    "# print(len(df_vec))\n",
    "\n",
    "# for luo_id in id_to_smiles.keys():\n",
    "#     # vec = mapping_product\n",
    "#     id_to_vec[str(luo_id)] = vec\n",
    "    \n",
    "#     pass\n",
    "    # map SMILE S to VEC\n",
    "    # save VEC in a new dict of type = {LUO_ID: VEC}    "
   ]
  },
  {
   "cell_type": "code",
   "execution_count": 28,
   "metadata": {},
   "outputs": [
    {
     "name": "stdout",
     "output_type": "stream",
     "text": [
      "(708,)\n",
      "696\n",
      "242\n"
     ]
    },
    {
     "name": "stderr",
     "output_type": "stream",
     "text": [
      "/home/jovyan/my-conda-envs/mol2vec/lib/python3.8/site-packages/numpy/core/fromnumeric.py:2009: VisibleDeprecationWarning: Creating an ndarray from ragged nested sequences (which is a list-or-tuple of lists-or-tuples-or ndarrays with different lengths or shapes) is deprecated. If you meant to do this, you must specify 'dtype=object' when creating the ndarray.\n",
      "  result = asarray(a).shape\n"
     ]
    },
    {
     "data": {
      "text/plain": [
       "72600"
      ]
     },
     "execution_count": 28,
     "metadata": {},
     "output_type": "execute_result"
    }
   ],
   "source": [
    "\n",
    "print(np.shape(sentences))\n",
    "maximum = 0\n",
    "max_i = -1\n",
    "for index, mol in enumerate(sentences):\n",
    "    # print(len(sentence))\n",
    "    if maximum < len(mol):\n",
    "        maximum = len(mol)\n",
    "        max_i = index\n",
    "print(max_i)\n",
    "print(maximum)\n",
    "\n",
    "sentence = []\n",
    "for word in sentences[max_i]:\n",
    "    sentence.append(model.wv.get_vector(word))\n",
    "    \n",
    "np.shape(sentence)[0] * np.shape(sentence)[1]\n",
    "    "
   ]
  },
  {
   "cell_type": "code",
   "execution_count": 29,
   "metadata": {},
   "outputs": [
    {
     "data": {
      "text/plain": [
       "35649"
      ]
     },
     "execution_count": 29,
     "metadata": {},
     "output_type": "execute_result"
    }
   ],
   "source": [
    "count = 0 \n",
    "for i in range(len(sentences)):\n",
    "    count = count + len(sentences[i])\n",
    "count"
   ]
  },
  {
   "cell_type": "markdown",
   "metadata": {},
   "source": [
    "### Sentence2Vec\n",
    "error \"The vocab attribute was removed from KeyedVector in Gensim 4.0.0.\"\n",
    "- summing on my own"
   ]
  },
  {
   "cell_type": "code",
   "execution_count": 30,
   "metadata": {},
   "outputs": [
    {
     "name": "stdout",
     "output_type": "stream",
     "text": [
      "(708,)\n"
     ]
    },
    {
     "data": {
      "text/plain": [
       "{'121': 0.19047619047619047,\n",
       " '208': 0.6666666666666666,\n",
       " '455': 1.0,\n",
       " '577': 0.3,\n",
       " '649': 1.0,\n",
       " '653': 1.0,\n",
       " '654': 1.0}"
      ]
     },
     "execution_count": 30,
     "metadata": {},
     "output_type": "execute_result"
    }
   ],
   "source": [
    "print(np.shape(sentences))\n",
    "\n",
    "sentence_embedding = {}\n",
    "missing_words = {}\n",
    "missing_words_portion = {}\n",
    "\n",
    "for index, sentence_mol in enumerate(sentences):\n",
    "    word_embeddings = []\n",
    "    missing_portion = []\n",
    "    # print(index)\n",
    "    for word in sentence_mol:\n",
    "        try:\n",
    "            word_embeddings.append(model.wv.get_vector(word))\n",
    "        except:\n",
    "            if not str(index) in missing_words.keys():\n",
    "                missing_words[str(index)] = []\n",
    "            missing_words[str(index)].append(word)\n",
    "            missing_portion.append(1)\n",
    "    \n",
    "    if(missing_portion):\n",
    "        missing_words_portion[str(index)] = sum(missing_portion) / len(sentence_mol)      \n",
    "    sentence_embedding[str(index)] = [sum(x) for x in zip(*word_embeddings)]\n",
    "\n",
    "missing_words\n",
    "missing_words_portion"
   ]
  },
  {
   "cell_type": "code",
   "execution_count": 72,
   "metadata": {},
   "outputs": [
    {
     "name": "stdout",
     "output_type": "stream",
     "text": [
      "(0,)\n",
      "(0,)\n",
      "(0,)\n",
      "(0,)\n"
     ]
    }
   ],
   "source": [
    "for i in sentence_embedding.values():\n",
    "    if np.shape(i)[0] != 300:\n",
    "        print(np.shape(i))"
   ]
  },
  {
   "cell_type": "markdown",
   "metadata": {},
   "source": [
    "### Is the whole drug missing from the model's vocabulary or only a part of it (a word)?"
   ]
  },
  {
   "cell_type": "code",
   "execution_count": 32,
   "metadata": {},
   "outputs": [],
   "source": [
    "max(sentence_embedding['0'])\n",
    "missing_in_sentences = None\n",
    "missing_in_missingwords = None\n",
    "\n",
    "for key in missing_words.keys():\n",
    "    # sentences[int(key)] diff missing_words[int(key)] and vice versa\n",
    "    missing_in_sentences = set(sentences[int(key)]) - set(missing_words[key])\n",
    "    missing_in_missingwords = set(missing_words[key]) - set(sentences[int(key)])"
   ]
  },
  {
   "cell_type": "markdown",
   "metadata": {
    "tags": []
   },
   "source": [
    "=> Both directions of difference are empty => the whole drugs are missing from the model's vocabulary not just their parts"
   ]
  },
  {
   "cell_type": "code",
   "execution_count": 33,
   "metadata": {},
   "outputs": [],
   "source": [
    "if(missing_in_sentences):\n",
    "    print(missing_in_sentences)"
   ]
  },
  {
   "cell_type": "code",
   "execution_count": 34,
   "metadata": {},
   "outputs": [
    {
     "data": {
      "text/plain": [
       "set()"
      ]
     },
     "execution_count": 34,
     "metadata": {},
     "output_type": "execute_result"
    }
   ],
   "source": [
    "missing_in_missingwords"
   ]
  },
  {
   "cell_type": "markdown",
   "metadata": {},
   "source": [
    "### Put it all together into a dict of type: {LuoID -> Vec} and a list of missing vectorizations: [LuoID]\n",
    "- sentences missing from vocabulary are in the form of an empty list in the sentence_embedding dict"
   ]
  },
  {
   "cell_type": "code",
   "execution_count": 35,
   "metadata": {},
   "outputs": [
    {
     "name": "stdout",
     "output_type": "stream",
     "text": [
      "(708,)\n",
      "(708,)\n",
      "(708,)\n"
     ]
    }
   ],
   "source": [
    "print(np.shape(list(id_to_smiles.keys())))\n",
    "print(np.shape(sentences))\n",
    "print(np.shape(list(sentence_embedding.keys())))"
   ]
  },
  {
   "cell_type": "code",
   "execution_count": 36,
   "metadata": {},
   "outputs": [
    {
     "name": "stdout",
     "output_type": "stream",
     "text": [
      "(708,)\n"
     ]
    }
   ],
   "source": [
    "# set luo_id_to_vec\n",
    "\n",
    "luo_id_to_vec = {}\n",
    "luo_ids = list(id_to_smiles.keys())\n",
    "for i, embedding in enumerate(sentence_embedding.values()):\n",
    "    luo_id_to_vec[str(luo_ids[i])] = embedding\n",
    "print(np.shape(list(luo_id_to_vec.keys())))\n",
    "\n",
    "# save to file\n",
    "if(SAVE):\n",
    "    json.dump(luo_id_to_vec, open(\"luo_id_to_vec.txt\",'w'))"
   ]
  },
  {
   "cell_type": "code",
   "execution_count": 37,
   "metadata": {},
   "outputs": [],
   "source": [
    "for x,y in zip(luo_ids, list(luo_id_to_vec.keys())):\n",
    "    if x != y:\n",
    "        print('not in order')"
   ]
  },
  {
   "cell_type": "code",
   "execution_count": 38,
   "metadata": {},
   "outputs": [
    {
     "name": "stdout",
     "output_type": "stream",
     "text": [
      "{'DB00364': 0.19047619047619047, 'DB00515': 0.6666666666666666, 'DB00958': 1.0, 'DB01169': 0.3, 'DB01356': 1.0, 'DB01378': 1.0, 'DB01390': 1.0}\n"
     ]
    }
   ],
   "source": [
    "# set luo_id_to_missing_portion\n",
    "\n",
    "luo_id_to_missing_portion = {}\n",
    "\n",
    "for index, key in enumerate(luo_id_to_vec.keys()):\n",
    "    if str(index) in list(missing_words_portion.keys()):\n",
    "        luo_id_to_missing_portion[key] = missing_words_portion[str(index)]\n",
    "        \n",
    "print(luo_id_to_missing_portion)\n",
    "\n",
    "# save to file\n",
    "if(SAVE):\n",
    "    json.dump(luo_id_to_missing_portion, open(\"luo_id_to_missing_portion.txt\",'w'))"
   ]
  },
  {
   "cell_type": "code",
   "execution_count": 39,
   "metadata": {},
   "outputs": [
    {
     "name": "stdout",
     "output_type": "stream",
     "text": [
      "DB00364 - record deleted\n",
      "DB00515 - record deleted\n",
      "DB00958 - record deleted\n",
      "DB01169 - record deleted\n",
      "DB01356 - record deleted\n",
      "DB01378 - record deleted\n",
      "DB01390 - record deleted\n"
     ]
    }
   ],
   "source": [
    "# filter drugs(sentences) with subparts(words) missing in vocabulary \n",
    "import copy\n",
    "luo_id_to_vec_cleaned = copy.deepcopy(luo_id_to_vec)\n",
    "\n",
    "for luo_id in luo_id_to_missing_portion.keys():\n",
    "    del luo_id_to_vec_cleaned[luo_id]\n",
    "    print(luo_id, '- record deleted')\n",
    "\n",
    "if(SAVE):\n",
    "    json.dump(luo_id_to_vec_cleaned, open(\"luo_id_to_vec_cleaned.txt\",'w'))"
   ]
  },
  {
   "cell_type": "code",
   "execution_count": 40,
   "metadata": {},
   "outputs": [],
   "source": [
    "corrected_smiles = {}\n",
    "corrected_smiles['DB00364'] = [\n",
    "    'C(C1C(C(C(C(O1)OC2(C(C(C(O2)OS(=O)(=O)O[Al])OS(=O)(=O)O[Al])OS(=O)(=O)O[Al])COS(=O)(=O)O[Al])OS(=O)(=O)O[Al])OS(=O)(=O)O[Al])OS(=O)(=O)O[Al])OS(=O)(=O)O[Al].O.O.O.O.O.O.O.O.O.O.O.O.O.O.O.O',\n",
    "     # Canonical SMILES\n",
    "    'C([C@@H]1[C@H]([C@@H]([C@H]([C@@H](O1)O[C@]2([C@H]([C@@H]([C@H](O2)OS(=O)(=O)O[Al])OS(=O)(=O)O[Al])OS(=O)(=O)O[Al])COS(=O)(=O)O[Al])OS(=O)(=O)O[Al])OS(=O)(=O)O[Al])OS(=O)(=O)O[Al])OS(=O)(=O)O[Al].O.O.O.O.O.O.O.O.O.O.O.O.O.O.O.O',\n",
    "    'O.O[Al](O)O.O[Al](O)OS(=O)(=O)OC[C@H]1O[C@@](COS(=O)(=O)O[Al](O)O)(O[C@H]2O[C@H](COS(=O)(=O)O[Al](O)O)[C@@H](OS(=O)(=O)O[Al](O)O)[C@H](OS(=O)(=O)O[Al](O)O)[C@H]2OS(=O)(=O)O[Al](O)O)[C@@H](OS(=O)(=O)O[Al](O)O)[C@@H]1OS(=O)(=O)O[Al](O)O',\n",
    "    'O[Al](O)OS(=O)(=O)OC[C@H]1O[C@@H](O[C@]2(COS(=O)(=O)O[Al](O)O)O[C@H](OS(=O)(=O)O[Al](O)O)[C@@H](OS(=O)(=O)O[Al](O)O)[C@@H]2OS(=O)(=O)O[Al](O)O)[C@H](OS(=O)(=O)O[Al](O)O)[C@@H](OS(=O)(=O)O[Al](O)O)[C@@H]1OS(=O)(=O)O[Al](O)O',\n",
    "]\n",
    "corrected_smiles['DB00515'] = [\n",
    "    '[NH2-].[NH2-].Cl[Pt+2]Cl', # Canonical SMILES\n",
    "    '[H][N]([H])([H])[Pt](Cl)(Cl)[N]([H])([H])[H]',\n",
    "    '[NH3+]-[Pt-2](Cl)(Cl)[NH3+]',\n",
    "    'N[Pt](N)(Cl)Cl',\n",
    "    'N.N.Cl[Pt+2]Cl',\n",
    "]\n",
    "corrected_smiles['DB00958'] = [\n",
    "    'C1CC(C1)(C(=O)O)C(=O)O.N.N.[Pt]', # Canonical SMILES\n",
    "    '[H][N]([H])([H])[Pt]1(OC(=O)C2(CCC2)C(=O)O1)[N]([H])([H])[H]',\n",
    "    'C1CC2(C1)C(=O)O[Pt-2]([NH3+])([NH3+])OC2=O',\n",
    "]\n",
    "corrected_smiles['DB01169'] = [\n",
    "    'O=[As]O[As]=O', # Canonical SMILES\n",
    "    'O1[As]3O[As]2O[As](O3)O[As]1O2',\n",
    "    'O1[As]2O[As]1O2',\n",
    "]\n",
    "corrected_smiles['DB01356'] = [\n",
    "    '[Li+]', # Canonical SMILES\n",
    "]\n",
    "corrected_smiles['DB01378'] = [\n",
    "    '[Mg+2]', # Canonical SMILES\n",
    "    '[Mg++]',\n",
    "]\n",
    "corrected_smiles['DB01390'] = [\n",
    "    'C(=O)(O)[O-].[Na+]', # Canonical SMILES\n",
    "    '[Na+].OC([O-])=O',\n",
    "]"
   ]
  },
  {
   "cell_type": "code",
   "execution_count": 41,
   "metadata": {},
   "outputs": [
    {
     "name": "stdout",
     "output_type": "stream",
     "text": [
      "\n",
      " 0.19047619047619047 portion of \n",
      "C(C1C(C(C(C(O1)OC2(C(C(C(O2)COS(=O)(=O)O[Al])OS(=O)(=O)O[Al])OS(=O)(=O)O[Al])COS(=O)(=O)O[Al])OS(=O)(=O)O[Al])OS(=O)(=O)O[Al])OS(=O)(=O)O[Al])OS(=O)(=O)O[Al]\n",
      "DB00364\n",
      "\n",
      " 0.6666666666666666 portion of \n",
      "Cl[Pt+2]Cl\n",
      "DB00515\n",
      "\n",
      " 1.0 portion of \n",
      "[Pt]\n",
      "DB00958\n",
      "\n",
      " 0.3 portion of \n",
      "O=[As]O[As]=O\n",
      "DB01169\n",
      "\n",
      " 1.0 portion of \n",
      "[Li]\n",
      "DB01356\n",
      "\n",
      " 1.0 portion of \n",
      "[Mg]\n",
      "DB01378\n",
      "\n",
      " 1.0 portion of \n",
      "[Na]\n",
      "DB01390\n"
     ]
    }
   ],
   "source": [
    "for key in luo_id_to_missing_portion.keys():\n",
    "    print('\\n', str(luo_id_to_missing_portion[key]) + ' portion of ')\n",
    "    print(id_to_smiles[key])\n",
    "    print(key)"
   ]
  },
  {
   "cell_type": "markdown",
   "metadata": {},
   "source": [
    "OR - Get SMILES from DrugBank DB"
   ]
  },
  {
   "cell_type": "code",
   "execution_count": 42,
   "metadata": {},
   "outputs": [],
   "source": [
    "# import xml.etree.ElementTree as ET\n",
    "# tree = ET.parse('full database.xml')\n",
    "# root = tree.getroot()"
   ]
  },
  {
   "cell_type": "code",
   "execution_count": 43,
   "metadata": {},
   "outputs": [],
   "source": [
    "# root.__dir__()"
   ]
  },
  {
   "cell_type": "code",
   "execution_count": 44,
   "metadata": {},
   "outputs": [],
   "source": [
    "# # for child in root:\n",
    "#     # print(child.tag, child.attrib)\n",
    "# child = root\n",
    "# while child:\n",
    "#     # [print (child[str(x)]) for x in child.keys()]\n",
    "#     print(child.items())\n",
    "#     child = child[0]\n",
    "\n",
    "# print(child.items())\n",
    "\n"
   ]
  },
  {
   "cell_type": "markdown",
   "metadata": {},
   "source": [
    "### Get Mol for prot sequence\n",
    "- Chem.MolFromSequence"
   ]
  },
  {
   "cell_type": "code",
   "execution_count": 45,
   "metadata": {},
   "outputs": [],
   "source": [
    "prot_sample = 'MRSMKALQKALSRAGSHCGRGGWGHPSRSPLLGGGVRHHLSEAAAQGRETPHSHQPQHQDHDSSESGMLSRLGDLLFYTIAEGQERIPIHKFTTALKATGLQTSDPRLRDCMSEMHRVVQESSSGGLLDRDLFRKCVSSNIVLLTQAFRKKFVIPDFEEFTGHVDRIFEDVKELTGGKVAAYIPQLAKSNPDLWGVSLCTVDGQRHSVGHTKIPFCLQSCVKPLTYAISISTLGTDYVHKFVGKEPSGLRYNKLSLNEEGIPHNPMVNAGAIVVSSLIKMDCNKAEKFDFVLQYLNKMAGNEYMGFSNATFQSEKETGDRNYAIGYYLKEKKCFPKGVDMMAALDLYFQLCSVEVTCESGSVMAATLANGGICPITGESVLSAEAVRNTLSLMHSCGMYDFSGQFAFHVGLPAKSAVSGAILLVVPNVMGMMCLSPPLDKLGNSHRGTSFCQKLVSLFNFHNYDNLRHCARKLDPRREGAEIRNKTVVNLLFAAYSGDVSALRRFALSAMDMEQKDYDSRTALHVAAAEGHIEVVKFLIEACKVNPFAKDRWGNIPLDDAVQFNHLEVVKLLQDYQDSYTLSETQAEAAAEALSKENLESMV'\n",
    "prot_sample = Chem.MolFromSequence(prot_sample)\n"
   ]
  },
  {
   "cell_type": "markdown",
   "metadata": {},
   "source": [
    "# Mol2Vec example code"
   ]
  },
  {
   "cell_type": "markdown",
   "metadata": {},
   "source": [
    "Canonical SMILES of amino acids"
   ]
  },
  {
   "cell_type": "code",
   "execution_count": 46,
   "metadata": {
    "tags": []
   },
   "outputs": [],
   "source": [
    "aa_smis = ['CC(N)C(=O)O', 'N=C(N)NCCCC(N)C(=O)O', 'NC(=O)CC(N)C(=O)O', 'NC(CC(=O)O)C(=O)O',\n",
    "          'NC(CS)C(=O)O', 'NC(CCC(=O)O)C(=O)O', 'NC(=O)CCC(N)C(=O)O', 'NCC(=O)O',\n",
    "          'NC(Cc1cnc[nH]1)C(=O)O', 'CCC(C)C(N)C(=O)O', 'CC(C)CC(N)C(=O)O', 'NCCCCC(N)C(=O)O',\n",
    "          'CSCCC(N)C(=O)O', 'NC(Cc1ccccc1)C(=O)O', 'O=C(O)C1CCCN1', 'NC(CO)C(=O)O',\n",
    "          'CC(O)C(N)C(=O)O', 'NC(Cc1c[nH]c2ccccc12)C(=O)O', 'NC(Cc1ccc(O)cc1)C(=O)O',\n",
    "          'CC(C)C(N)C(=O)O']\n",
    "aa_codes = ['ALA', 'ARG', 'ASN', 'ASP', 'CYS', 'GLU', 'GLN', 'GLY', 'HIS', 'ILE', \n",
    "            'LEU', 'LYS', 'MET', 'PHE', 'PRO', 'SER', 'THR', 'TRP', 'TYR', 'VAL']"
   ]
  },
  {
   "cell_type": "markdown",
   "metadata": {},
   "source": [
    "Generating molecules"
   ]
  },
  {
   "cell_type": "code",
   "execution_count": 47,
   "metadata": {
    "tags": []
   },
   "outputs": [],
   "source": [
    "aas = [Chem.MolFromSmiles(x) for x in aa_smis]"
   ]
  },
  {
   "cell_type": "code",
   "execution_count": 48,
   "metadata": {},
   "outputs": [
    {
     "data": {
      "image/png": "[encoded data removed]",
      "text/plain": [
       "<IPython.core.display.Image object>"
      ]
     },
     "execution_count": 48,
     "metadata": {},
     "output_type": "execute_result"
    }
   ],
   "source": [
    "Draw.MolsToGridImage(aas, molsPerRow=5, useSVG=False, legends=aa_codes)"
   ]
  },
  {
   "cell_type": "markdown",
   "metadata": {},
   "source": [
    "### Encoding substructures of a molecule as words"
   ]
  },
  {
   "cell_type": "code",
   "execution_count": 49,
   "metadata": {},
   "outputs": [
    {
     "data": {
      "text/plain": [
       "'CC(N)C(=O)O'"
      ]
     },
     "execution_count": 49,
     "metadata": {},
     "output_type": "execute_result"
    }
   ],
   "source": [
    "aa_smis[0]"
   ]
  },
  {
   "cell_type": "code",
   "execution_count": 50,
   "metadata": {},
   "outputs": [
    {
     "data": {
      "image/png": "[encoded data removed]",
      "text/plain": [
       "<rdkit.Chem.rdchem.Mol at 0x7f074d4d2640>"
      ]
     },
     "execution_count": 50,
     "metadata": {},
     "output_type": "execute_result"
    }
   ],
   "source": [
    "aas[0]"
   ]
  },
  {
   "cell_type": "markdown",
   "metadata": {},
   "source": [
    "Mol2vec is based on [Word2vec](https://papers.nips.cc/paper/5021-distributed-representations-of-words-and-phrases-and-their-compositionality.pdf) algorithm and we first have to encode molecules as sentences, meaning that each substructure (represented by Morgan identifier) represents a word."
   ]
  },
  {
   "cell_type": "code",
   "execution_count": 51,
   "metadata": {},
   "outputs": [
    {
     "data": {
      "text/plain": [
       "['2246728737',\n",
       " '3537119515',\n",
       " '2245273601',\n",
       " '2655406212',\n",
       " '847957139',\n",
       " '2599973650',\n",
       " '2246699815',\n",
       " '3855312692',\n",
       " '864942730',\n",
       " '1510328189',\n",
       " '864662311',\n",
       " '1533864325']"
      ]
     },
     "execution_count": 51,
     "metadata": {},
     "output_type": "execute_result"
    }
   ],
   "source": [
    "sentence = mol2alt_sentence(aas[0], 1)\n",
    "sentence"
   ]
  },
  {
   "cell_type": "markdown",
   "metadata": {},
   "source": [
    "Depict a specific Morgan identifier - *depict_identifier(mol, identifier, radius)*"
   ]
  },
  {
   "cell_type": "code",
   "execution_count": 52,
   "metadata": {},
   "outputs": [
    {
     "name": "stderr",
     "output_type": "stream",
     "text": [
      "[11:45:03] The new font size 0.8 is below the current minimum (6).\n"
     ]
    },
    {
     "data": {
      "image/svg+xml": [
       "<svg xmlns=\"http://www.w3.org/2000/svg\" xmlns:rdkit=\"http://www.rdkit.org/xml\" xmlns:xlink=\"http://www.w3.org/1999/xlink\" version=\"1.1\" baseProfile=\"full\" xml:space=\"preserve\" width=\"300px\" height=\"300px\" viewBox=\"0 0 300 300\">\n",
       "<!-- END OF HEADER -->\n",
       "<rect style=\"opacity:1.0;fill:#FFFFFF;stroke:none\" width=\"300.0\" height=\"300.0\" x=\"0.0\" y=\"0.0\"> </rect>\n",
       "<ellipse cx=\"226.8\" cy=\"66.4\" rx=\"29.8\" ry=\"29.8\" class=\"atom-0\" style=\"fill:#00FF00;fill-rule:evenodd;stroke:#00FF00;stroke-width:1.0px;stroke-linecap:butt;stroke-linejoin:miter;stroke-opacity:1\"/>\n",
       "<path class=\"bond-0 atom-0 atom-1\" d=\"M 226.8,66.4 L 182.1,143.7\" style=\"fill:none;fill-rule:evenodd;stroke:#000000;stroke-width:2.0px;stroke-linecap:butt;stroke-linejoin:miter;stroke-opacity:1\"/>\n",
       "<path class=\"bond-1 atom-1 atom-2\" d=\"M 182.1,143.7 L 200.0,174.6\" style=\"fill:none;fill-rule:evenodd;stroke:#000000;stroke-width:2.0px;stroke-linecap:butt;stroke-linejoin:miter;stroke-opacity:1\"/>\n",
       "<path class=\"bond-1 atom-1 atom-2\" d=\"M 200.0,174.6 L 217.8,205.5\" style=\"fill:none;fill-rule:evenodd;stroke:#0000FF;stroke-width:2.0px;stroke-linecap:butt;stroke-linejoin:miter;stroke-opacity:1\"/>\n",
       "<path class=\"bond-2 atom-1 atom-3\" d=\"M 182.1,143.7 L 92.8,143.7\" style=\"fill:none;fill-rule:evenodd;stroke:#000000;stroke-width:2.0px;stroke-linecap:butt;stroke-linejoin:miter;stroke-opacity:1\"/>\n",
       "<path class=\"bond-3 atom-3 atom-4\" d=\"M 100.5,148.2 L 82.7,179.0\" style=\"fill:none;fill-rule:evenodd;stroke:#000000;stroke-width:2.0px;stroke-linecap:butt;stroke-linejoin:miter;stroke-opacity:1\"/>\n",
       "<path class=\"bond-3 atom-3 atom-4\" d=\"M 82.7,179.0 L 64.9,209.9\" style=\"fill:none;fill-rule:evenodd;stroke:#FF0000;stroke-width:2.0px;stroke-linecap:butt;stroke-linejoin:miter;stroke-opacity:1\"/>\n",
       "<path class=\"bond-3 atom-3 atom-4\" d=\"M 85.0,139.3 L 67.2,170.1\" style=\"fill:none;fill-rule:evenodd;stroke:#000000;stroke-width:2.0px;stroke-linecap:butt;stroke-linejoin:miter;stroke-opacity:1\"/>\n",
       "<path class=\"bond-3 atom-3 atom-4\" d=\"M 67.2,170.1 L 49.4,200.9\" style=\"fill:none;fill-rule:evenodd;stroke:#FF0000;stroke-width:2.0px;stroke-linecap:butt;stroke-linejoin:miter;stroke-opacity:1\"/>\n",
       "<path class=\"bond-4 atom-3 atom-5\" d=\"M 92.8,143.7 L 75.1,113.1\" style=\"fill:none;fill-rule:evenodd;stroke:#000000;stroke-width:2.0px;stroke-linecap:butt;stroke-linejoin:miter;stroke-opacity:1\"/>\n",
       "<path class=\"bond-4 atom-3 atom-5\" d=\"M 75.1,113.1 L 57.4,82.5\" style=\"fill:none;fill-rule:evenodd;stroke:#FF0000;stroke-width:2.0px;stroke-linecap:butt;stroke-linejoin:miter;stroke-opacity:1\"/>\n",
       "<path class=\"atom-2\" d=\"M 221.2 208.5 L 229.5 221.9 Q 230.3 223.2, 231.6 225.6 Q 233.0 228.0, 233.0 228.1 L 233.0 208.5 L 236.4 208.5 L 236.4 233.8 L 232.9 233.8 L 224.0 219.1 Q 223.0 217.4, 221.9 215.4 Q 220.8 213.5, 220.5 212.9 L 220.5 233.8 L 217.2 233.8 L 217.2 208.5 L 221.2 208.5 \" fill=\"#0000FF\"/>\n",
       "<path class=\"atom-2\" d=\"M 239.4 208.5 L 242.8 208.5 L 242.8 219.2 L 255.7 219.2 L 255.7 208.5 L 259.2 208.5 L 259.2 233.8 L 255.7 233.8 L 255.7 222.1 L 242.8 222.1 L 242.8 233.8 L 239.4 233.8 L 239.4 208.5 \" fill=\"#0000FF\"/>\n",
       "<path class=\"atom-2\" d=\"M 262.2 232.9 Q 262.9 231.3, 264.3 230.4 Q 265.8 229.5, 267.8 229.5 Q 270.3 229.5, 271.8 230.9 Q 273.2 232.3, 273.2 234.7 Q 273.2 237.2, 271.3 239.5 Q 269.5 241.8, 265.7 244.5 L 273.4 244.5 L 273.4 246.4 L 262.2 246.4 L 262.2 244.9 Q 265.3 242.6, 267.2 241.0 Q 269.0 239.3, 269.9 237.8 Q 270.8 236.4, 270.8 234.8 Q 270.8 233.2, 270.0 232.3 Q 269.2 231.4, 267.8 231.4 Q 266.5 231.4, 265.6 232.0 Q 264.7 232.5, 264.0 233.7 L 262.2 232.9 \" fill=\"#0000FF\"/>\n",
       "<path class=\"atom-4\" d=\"M 36.5 221.2 Q 36.5 215.1, 39.5 211.7 Q 42.5 208.3, 48.1 208.3 Q 53.7 208.3, 56.7 211.7 Q 59.7 215.1, 59.7 221.2 Q 59.7 227.3, 56.7 230.8 Q 53.6 234.3, 48.1 234.3 Q 42.5 234.3, 39.5 230.8 Q 36.5 227.4, 36.5 221.2 M 48.1 231.5 Q 52.0 231.5, 54.0 228.9 Q 56.1 226.3, 56.1 221.2 Q 56.1 216.2, 54.0 213.7 Q 52.0 211.2, 48.1 211.2 Q 44.2 211.2, 42.1 213.7 Q 40.0 216.2, 40.0 221.2 Q 40.0 226.3, 42.1 228.9 Q 44.2 231.5, 48.1 231.5 \" fill=\"#FF0000\"/>\n",
       "<path class=\"atom-5\" d=\"M 13.6 53.9 L 17.1 53.9 L 17.1 64.6 L 30.0 64.6 L 30.0 53.9 L 33.4 53.9 L 33.4 79.2 L 30.0 79.2 L 30.0 67.5 L 17.1 67.5 L 17.1 79.2 L 13.6 79.2 L 13.6 53.9 \" fill=\"#FF0000\"/>\n",
       "<path class=\"atom-5\" d=\"M 36.5 66.4 Q 36.5 60.4, 39.5 57.0 Q 42.5 53.6, 48.1 53.6 Q 53.7 53.6, 56.7 57.0 Q 59.7 60.4, 59.7 66.4 Q 59.7 72.6, 56.7 76.1 Q 53.6 79.6, 48.1 79.6 Q 42.5 79.6, 39.5 76.1 Q 36.5 72.6, 36.5 66.4 M 48.1 76.7 Q 52.0 76.7, 54.0 74.1 Q 56.1 71.5, 56.1 66.4 Q 56.1 61.5, 54.0 59.0 Q 52.0 56.4, 48.1 56.4 Q 44.2 56.4, 42.1 58.9 Q 40.0 61.4, 40.0 66.4 Q 40.0 71.5, 42.1 74.1 Q 44.2 76.7, 48.1 76.7 \" fill=\"#FF0000\"/>\n",
       "</svg>"
      ],
      "text/plain": [
       "<IPython.core.display.SVG object>"
      ]
     },
     "execution_count": 52,
     "metadata": {},
     "output_type": "execute_result"
    }
   ],
   "source": [
    "depict_identifier(aas[0], 2246728737, 1)"
   ]
  },
  {
   "cell_type": "markdown",
   "metadata": {},
   "source": [
    "To depict all identifiers one can use IdentifierTable object -   \n",
    "*IdentifierTable(identifiers_to_depict, mols_containing_selected_identifiers, sentences_for_mols, number_of_columns, radius)*"
   ]
  },
  {
   "cell_type": "code",
   "execution_count": 53,
   "metadata": {
    "tags": []
   },
   "outputs": [
    {
     "name": "stderr",
     "output_type": "stream",
     "text": [
      "[11:45:03] The new font size 0.8 is below the current minimum (6).\n",
      "[11:45:03] The new font size 0.8 is below the current minimum (6).\n",
      "[11:45:03] The new font size 0.8 is below the current minimum (6).\n",
      "[11:45:03] The new font size 0.8 is below the current minimum (6).\n",
      "[11:45:03] The new font size 0.8 is below the current minimum (6).\n",
      "[11:45:03] The new font size 0.8 is below the current minimum (6).\n",
      "[11:45:03] The new font size 0.8 is below the current minimum (6).\n",
      "[11:45:03] The new font size 0.8 is below the current minimum (6).\n",
      "[11:45:03] The new font size 0.8 is below the current minimum (6).\n",
      "[11:45:03] The new font size 0.8 is below the current minimum (6).\n",
      "[11:45:03] The new font size 0.8 is below the current minimum (6).\n",
      "[11:45:03] The new font size 0.8 is below the current minimum (6).\n"
     ]
    }
   ],
   "source": [
    "it = IdentifierTable(sentence, [aas[0]]*len(sentence), [sentence]*len(sentence), 5, 1)"
   ]
  },
  {
   "cell_type": "code",
   "execution_count": 54,
   "metadata": {},
   "outputs": [
    {
     "data": {
      "text/html": [
       "<table style=\"width:100%\"><tr><td><div align=\"center\"><svg xmlns=\"http://www.w3.org/2000/svg\" xmlns:rdkit=\"http://www.rdkit.org/xml\" xmlns:xlink=\"http://www.w3.org/1999/xlink\" version=\"1.1\" baseProfile=\"full\" xml:space=\"preserve\" width=\"150px\" height=\"150px\" viewBox=\"0 0 150 150\">\n",
       "<!-- END OF HEADER -->\n",
       "<rect style=\"opacity:1.0;fill:#FFFFFF;stroke:none\" width=\"150.0\" height=\"150.0\" x=\"0.0\" y=\"0.0\"> </rect>\n",
       "<ellipse cx=\"113.4\" cy=\"33.2\" rx=\"14.9\" ry=\"14.9\" class=\"atom-0\" style=\"fill:#00FF00;fill-rule:evenodd;stroke:#00FF00;stroke-width:1.0px;stroke-linecap:butt;stroke-linejoin:miter;stroke-opacity:1\"/>\n",
       "<path class=\"bond-0 atom-0 atom-1\" d=\"M 113.4,33.2 L 91.1,71.9\" style=\"fill:none;fill-rule:evenodd;stroke:#000000;stroke-width:2.0px;stroke-linecap:butt;stroke-linejoin:miter;stroke-opacity:1\"/>\n",
       "<path class=\"bond-1 atom-1 atom-2\" d=\"M 91.1,71.9 L 100.0,87.3\" style=\"fill:none;fill-rule:evenodd;stroke:#000000;stroke-width:2.0px;stroke-linecap:butt;stroke-linejoin:miter;stroke-opacity:1\"/>\n",
       "<path class=\"bond-1 atom-1 atom-2\" d=\"M 100.0,87.3 L 108.9,102.8\" style=\"fill:none;fill-rule:evenodd;stroke:#0000FF;stroke-width:2.0px;stroke-linecap:butt;stroke-linejoin:miter;stroke-opacity:1\"/>\n",
       "<path class=\"bond-2 atom-1 atom-3\" d=\"M 91.1,71.9 L 46.4,71.9\" style=\"fill:none;fill-rule:evenodd;stroke:#000000;stroke-width:2.0px;stroke-linecap:butt;stroke-linejoin:miter;stroke-opacity:1\"/>\n",
       "<path class=\"bond-3 atom-3 atom-4\" d=\"M 50.3,74.1 L 41.4,89.5\" style=\"fill:none;fill-rule:evenodd;stroke:#000000;stroke-width:2.0px;stroke-linecap:butt;stroke-linejoin:miter;stroke-opacity:1\"/>\n",
       "<path class=\"bond-3 atom-3 atom-4\" d=\"M 41.4,89.5 L 32.5,104.9\" style=\"fill:none;fill-rule:evenodd;stroke:#FF0000;stroke-width:2.0px;stroke-linecap:butt;stroke-linejoin:miter;stroke-opacity:1\"/>\n",
       "<path class=\"bond-3 atom-3 atom-4\" d=\"M 42.5,69.6 L 33.6,85.0\" style=\"fill:none;fill-rule:evenodd;stroke:#000000;stroke-width:2.0px;stroke-linecap:butt;stroke-linejoin:miter;stroke-opacity:1\"/>\n",
       "<path class=\"bond-3 atom-3 atom-4\" d=\"M 33.6,85.0 L 24.7,100.5\" style=\"fill:none;fill-rule:evenodd;stroke:#FF0000;stroke-width:2.0px;stroke-linecap:butt;stroke-linejoin:miter;stroke-opacity:1\"/>\n",
       "<path class=\"bond-4 atom-3 atom-5\" d=\"M 46.4,71.9 L 37.5,56.6\" style=\"fill:none;fill-rule:evenodd;stroke:#000000;stroke-width:2.0px;stroke-linecap:butt;stroke-linejoin:miter;stroke-opacity:1\"/>\n",
       "<path class=\"bond-4 atom-3 atom-5\" d=\"M 37.5,56.6 L 28.7,41.3\" style=\"fill:none;fill-rule:evenodd;stroke:#FF0000;stroke-width:2.0px;stroke-linecap:butt;stroke-linejoin:miter;stroke-opacity:1\"/>\n",
       "<path class=\"atom-2\" d=\"M 110.6 104.2 L 114.7 110.9 Q 115.2 111.6, 115.8 112.8 Q 116.5 114.0, 116.5 114.1 L 116.5 104.2 L 118.2 104.2 L 118.2 116.9 L 116.5 116.9 L 112.0 109.6 Q 111.5 108.7, 110.9 107.7 Q 110.4 106.7, 110.2 106.4 L 110.2 116.9 L 108.6 116.9 L 108.6 104.2 L 110.6 104.2 \" fill=\"#0000FF\"/>\n",
       "<path class=\"atom-2\" d=\"M 119.7 104.2 L 121.4 104.2 L 121.4 109.6 L 127.9 109.6 L 127.9 104.2 L 129.6 104.2 L 129.6 116.9 L 127.9 116.9 L 127.9 111.0 L 121.4 111.0 L 121.4 116.9 L 119.7 116.9 L 119.7 104.2 \" fill=\"#0000FF\"/>\n",
       "<path class=\"atom-2\" d=\"M 131.1 116.4 Q 131.4 115.7, 132.2 115.2 Q 132.9 114.8, 133.9 114.8 Q 135.2 114.8, 135.9 115.5 Q 136.6 116.1, 136.6 117.4 Q 136.6 118.6, 135.7 119.7 Q 134.8 120.9, 132.9 122.3 L 136.7 122.3 L 136.7 123.2 L 131.1 123.2 L 131.1 122.4 Q 132.7 121.3, 133.6 120.5 Q 134.5 119.7, 135.0 118.9 Q 135.4 118.2, 135.4 117.4 Q 135.4 116.6, 135.0 116.2 Q 134.6 115.7, 133.9 115.7 Q 133.2 115.7, 132.8 116.0 Q 132.3 116.3, 132.0 116.9 L 131.1 116.4 \" fill=\"#0000FF\"/>\n",
       "<path class=\"atom-4\" d=\"M 18.2 110.6 Q 18.2 107.6, 19.7 105.9 Q 21.2 104.2, 24.0 104.2 Q 26.9 104.2, 28.4 105.9 Q 29.9 107.6, 29.9 110.6 Q 29.9 113.7, 28.3 115.4 Q 26.8 117.2, 24.0 117.2 Q 21.3 117.2, 19.7 115.4 Q 18.2 113.7, 18.2 110.6 M 24.0 115.7 Q 26.0 115.7, 27.0 114.4 Q 28.1 113.1, 28.1 110.6 Q 28.1 108.1, 27.0 106.9 Q 26.0 105.6, 24.0 105.6 Q 22.1 105.6, 21.1 106.8 Q 20.0 108.1, 20.0 110.6 Q 20.0 113.2, 21.1 114.4 Q 22.1 115.7, 24.0 115.7 \" fill=\"#FF0000\"/>\n",
       "<path class=\"atom-5\" d=\"M 6.8 26.9 L 8.5 26.9 L 8.5 32.3 L 15.0 32.3 L 15.0 26.9 L 16.7 26.9 L 16.7 39.6 L 15.0 39.6 L 15.0 33.7 L 8.5 33.7 L 8.5 39.6 L 6.8 39.6 L 6.8 26.9 \" fill=\"#FF0000\"/>\n",
       "<path class=\"atom-5\" d=\"M 18.2 33.2 Q 18.2 30.2, 19.7 28.5 Q 21.2 26.8, 24.0 26.8 Q 26.9 26.8, 28.4 28.5 Q 29.9 30.2, 29.9 33.2 Q 29.9 36.3, 28.3 38.0 Q 26.8 39.8, 24.0 39.8 Q 21.3 39.8, 19.7 38.0 Q 18.2 36.3, 18.2 33.2 M 24.0 38.3 Q 26.0 38.3, 27.0 37.1 Q 28.1 35.8, 28.1 33.2 Q 28.1 30.7, 27.0 29.5 Q 26.0 28.2, 24.0 28.2 Q 22.1 28.2, 21.1 29.5 Q 20.0 30.7, 20.0 33.2 Q 20.0 35.8, 21.1 37.1 Q 22.1 38.3, 24.0 38.3 \" fill=\"#FF0000\"/>\n",
       "</svg></div>\n",
       "<div align=\"center\">2246728737</div></td><td><div align=\"center\"><svg xmlns=\"http://www.w3.org/2000/svg\" xmlns:rdkit=\"http://www.rdkit.org/xml\" xmlns:xlink=\"http://www.w3.org/1999/xlink\" version=\"1.1\" baseProfile=\"full\" xml:space=\"preserve\" width=\"150px\" height=\"150px\" viewBox=\"0 0 150 150\">\n",
       "<!-- END OF HEADER -->\n",
       "<rect style=\"opacity:1.0;fill:#FFFFFF;stroke:none\" width=\"150.0\" height=\"150.0\" x=\"0.0\" y=\"0.0\"> </rect>\n",
       "<path class=\"bond-0 atom-0 atom-1\" d=\"M 113.4,33.2 L 91.1,71.9\" style=\"fill:none;fill-rule:evenodd;stroke:#CCFF00;stroke-width:9.5px;stroke-linecap:butt;stroke-linejoin:miter;stroke-opacity:1\"/>\n",
       "<ellipse cx=\"113.4\" cy=\"33.2\" rx=\"14.9\" ry=\"14.9\" class=\"atom-0\" style=\"fill:#00FF00;fill-rule:evenodd;stroke:#00FF00;stroke-width:1.0px;stroke-linecap:butt;stroke-linejoin:miter;stroke-opacity:1\"/>\n",
       "<ellipse cx=\"91.1\" cy=\"71.9\" rx=\"14.9\" ry=\"14.9\" class=\"atom-1\" style=\"fill:#CCFF00;fill-rule:evenodd;stroke:#CCFF00;stroke-width:1.0px;stroke-linecap:butt;stroke-linejoin:miter;stroke-opacity:1\"/>\n",
       "<path class=\"bond-0 atom-0 atom-1\" d=\"M 113.4,33.2 L 91.1,71.9\" style=\"fill:none;fill-rule:evenodd;stroke:#000000;stroke-width:2.0px;stroke-linecap:butt;stroke-linejoin:miter;stroke-opacity:1\"/>\n",
       "<path class=\"bond-1 atom-1 atom-2\" d=\"M 91.1,71.9 L 100.0,87.3\" style=\"fill:none;fill-rule:evenodd;stroke:#000000;stroke-width:2.0px;stroke-linecap:butt;stroke-linejoin:miter;stroke-opacity:1\"/>\n",
       "<path class=\"bond-1 atom-1 atom-2\" d=\"M 100.0,87.3 L 108.9,102.8\" style=\"fill:none;fill-rule:evenodd;stroke:#0000FF;stroke-width:2.0px;stroke-linecap:butt;stroke-linejoin:miter;stroke-opacity:1\"/>\n",
       "<path class=\"bond-2 atom-1 atom-3\" d=\"M 91.1,71.9 L 46.4,71.9\" style=\"fill:none;fill-rule:evenodd;stroke:#000000;stroke-width:2.0px;stroke-linecap:butt;stroke-linejoin:miter;stroke-opacity:1\"/>\n",
       "<path class=\"bond-3 atom-3 atom-4\" d=\"M 50.3,74.1 L 41.4,89.5\" style=\"fill:none;fill-rule:evenodd;stroke:#000000;stroke-width:2.0px;stroke-linecap:butt;stroke-linejoin:miter;stroke-opacity:1\"/>\n",
       "<path class=\"bond-3 atom-3 atom-4\" d=\"M 41.4,89.5 L 32.5,104.9\" style=\"fill:none;fill-rule:evenodd;stroke:#FF0000;stroke-width:2.0px;stroke-linecap:butt;stroke-linejoin:miter;stroke-opacity:1\"/>\n",
       "<path class=\"bond-3 atom-3 atom-4\" d=\"M 42.5,69.6 L 33.6,85.0\" style=\"fill:none;fill-rule:evenodd;stroke:#000000;stroke-width:2.0px;stroke-linecap:butt;stroke-linejoin:miter;stroke-opacity:1\"/>\n",
       "<path class=\"bond-3 atom-3 atom-4\" d=\"M 33.6,85.0 L 24.7,100.5\" style=\"fill:none;fill-rule:evenodd;stroke:#FF0000;stroke-width:2.0px;stroke-linecap:butt;stroke-linejoin:miter;stroke-opacity:1\"/>\n",
       "<path class=\"bond-4 atom-3 atom-5\" d=\"M 46.4,71.9 L 37.5,56.6\" style=\"fill:none;fill-rule:evenodd;stroke:#000000;stroke-width:2.0px;stroke-linecap:butt;stroke-linejoin:miter;stroke-opacity:1\"/>\n",
       "<path class=\"bond-4 atom-3 atom-5\" d=\"M 37.5,56.6 L 28.7,41.3\" style=\"fill:none;fill-rule:evenodd;stroke:#FF0000;stroke-width:2.0px;stroke-linecap:butt;stroke-linejoin:miter;stroke-opacity:1\"/>\n",
       "<path class=\"atom-2\" d=\"M 110.6 104.2 L 114.7 110.9 Q 115.2 111.6, 115.8 112.8 Q 116.5 114.0, 116.5 114.1 L 116.5 104.2 L 118.2 104.2 L 118.2 116.9 L 116.5 116.9 L 112.0 109.6 Q 111.5 108.7, 110.9 107.7 Q 110.4 106.7, 110.2 106.4 L 110.2 116.9 L 108.6 116.9 L 108.6 104.2 L 110.6 104.2 \" fill=\"#0000FF\"/>\n",
       "<path class=\"atom-2\" d=\"M 119.7 104.2 L 121.4 104.2 L 121.4 109.6 L 127.9 109.6 L 127.9 104.2 L 129.6 104.2 L 129.6 116.9 L 127.9 116.9 L 127.9 111.0 L 121.4 111.0 L 121.4 116.9 L 119.7 116.9 L 119.7 104.2 \" fill=\"#0000FF\"/>\n",
       "<path class=\"atom-2\" d=\"M 131.1 116.4 Q 131.4 115.7, 132.2 115.2 Q 132.9 114.8, 133.9 114.8 Q 135.2 114.8, 135.9 115.5 Q 136.6 116.1, 136.6 117.4 Q 136.6 118.6, 135.7 119.7 Q 134.8 120.9, 132.9 122.3 L 136.7 122.3 L 136.7 123.2 L 131.1 123.2 L 131.1 122.4 Q 132.7 121.3, 133.6 120.5 Q 134.5 119.7, 135.0 118.9 Q 135.4 118.2, 135.4 117.4 Q 135.4 116.6, 135.0 116.2 Q 134.6 115.7, 133.9 115.7 Q 133.2 115.7, 132.8 116.0 Q 132.3 116.3, 132.0 116.9 L 131.1 116.4 \" fill=\"#0000FF\"/>\n",
       "<path class=\"atom-4\" d=\"M 18.2 110.6 Q 18.2 107.6, 19.7 105.9 Q 21.2 104.2, 24.0 104.2 Q 26.9 104.2, 28.4 105.9 Q 29.9 107.6, 29.9 110.6 Q 29.9 113.7, 28.3 115.4 Q 26.8 117.2, 24.0 117.2 Q 21.3 117.2, 19.7 115.4 Q 18.2 113.7, 18.2 110.6 M 24.0 115.7 Q 26.0 115.7, 27.0 114.4 Q 28.1 113.1, 28.1 110.6 Q 28.1 108.1, 27.0 106.9 Q 26.0 105.6, 24.0 105.6 Q 22.1 105.6, 21.1 106.8 Q 20.0 108.1, 20.0 110.6 Q 20.0 113.2, 21.1 114.4 Q 22.1 115.7, 24.0 115.7 \" fill=\"#FF0000\"/>\n",
       "<path class=\"atom-5\" d=\"M 6.8 26.9 L 8.5 26.9 L 8.5 32.3 L 15.0 32.3 L 15.0 26.9 L 16.7 26.9 L 16.7 39.6 L 15.0 39.6 L 15.0 33.7 L 8.5 33.7 L 8.5 39.6 L 6.8 39.6 L 6.8 26.9 \" fill=\"#FF0000\"/>\n",
       "<path class=\"atom-5\" d=\"M 18.2 33.2 Q 18.2 30.2, 19.7 28.5 Q 21.2 26.8, 24.0 26.8 Q 26.9 26.8, 28.4 28.5 Q 29.9 30.2, 29.9 33.2 Q 29.9 36.3, 28.3 38.0 Q 26.8 39.8, 24.0 39.8 Q 21.3 39.8, 19.7 38.0 Q 18.2 36.3, 18.2 33.2 M 24.0 38.3 Q 26.0 38.3, 27.0 37.1 Q 28.1 35.8, 28.1 33.2 Q 28.1 30.7, 27.0 29.5 Q 26.0 28.2, 24.0 28.2 Q 22.1 28.2, 21.1 29.5 Q 20.0 30.7, 20.0 33.2 Q 20.0 35.8, 21.1 37.1 Q 22.1 38.3, 24.0 38.3 \" fill=\"#FF0000\"/>\n",
       "</svg></div>\n",
       "<div align=\"center\">3537119515</div></td><td><div align=\"center\"><svg xmlns=\"http://www.w3.org/2000/svg\" xmlns:rdkit=\"http://www.rdkit.org/xml\" xmlns:xlink=\"http://www.w3.org/1999/xlink\" version=\"1.1\" baseProfile=\"full\" xml:space=\"preserve\" width=\"150px\" height=\"150px\" viewBox=\"0 0 150 150\">\n",
       "<!-- END OF HEADER -->\n",
       "<rect style=\"opacity:1.0;fill:#FFFFFF;stroke:none\" width=\"150.0\" height=\"150.0\" x=\"0.0\" y=\"0.0\"> </rect>\n",
       "<ellipse cx=\"95.2\" cy=\"71.7\" rx=\"15.6\" ry=\"15.6\" class=\"atom-1\" style=\"fill:#00FF00;fill-rule:evenodd;stroke:#00FF00;stroke-width:1.0px;stroke-linecap:butt;stroke-linejoin:miter;stroke-opacity:1\"/>\n",
       "<path class=\"bond-0 atom-0 atom-1\" d=\"M 118.7,31.1 L 95.2,71.7\" style=\"fill:none;fill-rule:evenodd;stroke:#000000;stroke-width:2.0px;stroke-linecap:butt;stroke-linejoin:miter;stroke-opacity:1\"/>\n",
       "<path class=\"bond-1 atom-1 atom-2\" d=\"M 95.2,71.7 L 104.6,87.9\" style=\"fill:none;fill-rule:evenodd;stroke:#000000;stroke-width:2.0px;stroke-linecap:butt;stroke-linejoin:miter;stroke-opacity:1\"/>\n",
       "<path class=\"bond-1 atom-1 atom-2\" d=\"M 104.6,87.9 L 114.0,104.1\" style=\"fill:none;fill-rule:evenodd;stroke:#0000FF;stroke-width:2.0px;stroke-linecap:butt;stroke-linejoin:miter;stroke-opacity:1\"/>\n",
       "<path class=\"bond-2 atom-1 atom-3\" d=\"M 95.2,71.7 L 48.4,71.7\" style=\"fill:none;fill-rule:evenodd;stroke:#000000;stroke-width:2.0px;stroke-linecap:butt;stroke-linejoin:miter;stroke-opacity:1\"/>\n",
       "<path class=\"bond-3 atom-3 atom-4\" d=\"M 52.4,74.1 L 43.1,90.2\" style=\"fill:none;fill-rule:evenodd;stroke:#000000;stroke-width:2.0px;stroke-linecap:butt;stroke-linejoin:miter;stroke-opacity:1\"/>\n",
       "<path class=\"bond-3 atom-3 atom-4\" d=\"M 43.1,90.2 L 33.7,106.4\" style=\"fill:none;fill-rule:evenodd;stroke:#FF0000;stroke-width:2.0px;stroke-linecap:butt;stroke-linejoin:miter;stroke-opacity:1\"/>\n",
       "<path class=\"bond-3 atom-3 atom-4\" d=\"M 44.3,69.4 L 34.9,85.5\" style=\"fill:none;fill-rule:evenodd;stroke:#000000;stroke-width:2.0px;stroke-linecap:butt;stroke-linejoin:miter;stroke-opacity:1\"/>\n",
       "<path class=\"bond-3 atom-3 atom-4\" d=\"M 34.9,85.5 L 25.6,101.7\" style=\"fill:none;fill-rule:evenodd;stroke:#FF0000;stroke-width:2.0px;stroke-linecap:butt;stroke-linejoin:miter;stroke-opacity:1\"/>\n",
       "<path class=\"bond-4 atom-3 atom-5\" d=\"M 48.4,71.7 L 39.1,55.6\" style=\"fill:none;fill-rule:evenodd;stroke:#000000;stroke-width:2.0px;stroke-linecap:butt;stroke-linejoin:miter;stroke-opacity:1\"/>\n",
       "<path class=\"bond-4 atom-3 atom-5\" d=\"M 39.1,55.6 L 29.8,39.6\" style=\"fill:none;fill-rule:evenodd;stroke:#FF0000;stroke-width:2.0px;stroke-linecap:butt;stroke-linejoin:miter;stroke-opacity:1\"/>\n",
       "<path class=\"atom-2\" d=\"M 115.8 105.7 L 120.1 112.7 Q 120.5 113.4, 121.2 114.7 Q 121.9 115.9, 122.0 116.0 L 122.0 105.7 L 123.7 105.7 L 123.7 119.0 L 121.9 119.0 L 117.2 111.3 Q 116.7 110.4, 116.1 109.3 Q 115.6 108.3, 115.4 108.0 L 115.4 119.0 L 113.7 119.0 L 113.7 105.7 L 115.8 105.7 \" fill=\"#0000FF\"/>\n",
       "<path class=\"atom-2\" d=\"M 125.3 105.7 L 127.1 105.7 L 127.1 111.3 L 133.9 111.3 L 133.9 105.7 L 135.7 105.7 L 135.7 119.0 L 133.9 119.0 L 133.9 112.8 L 127.1 112.8 L 127.1 119.0 L 125.3 119.0 L 125.3 105.7 \" fill=\"#0000FF\"/>\n",
       "<path class=\"atom-2\" d=\"M 137.3 118.5 Q 137.6 117.7, 138.4 117.2 Q 139.2 116.7, 140.2 116.7 Q 141.5 116.7, 142.3 117.5 Q 143.0 118.2, 143.0 119.5 Q 143.0 120.8, 142.1 122.0 Q 141.1 123.2, 139.1 124.6 L 143.2 124.6 L 143.2 125.6 L 137.3 125.6 L 137.3 124.8 Q 138.9 123.6, 139.9 122.8 Q 140.9 121.9, 141.3 121.1 Q 141.8 120.3, 141.8 119.5 Q 141.8 118.7, 141.4 118.2 Q 141.0 117.7, 140.2 117.7 Q 139.5 117.7, 139.0 118.0 Q 138.6 118.3, 138.2 118.9 L 137.3 118.5 \" fill=\"#0000FF\"/>\n",
       "<path class=\"atom-4\" d=\"M 18.8 112.4 Q 18.8 109.2, 20.4 107.4 Q 22.0 105.6, 24.9 105.6 Q 27.8 105.6, 29.4 107.4 Q 31.0 109.2, 31.0 112.4 Q 31.0 115.6, 29.4 117.4 Q 27.8 119.3, 24.9 119.3 Q 22.0 119.3, 20.4 117.4 Q 18.8 115.6, 18.8 112.4 M 24.9 117.8 Q 26.9 117.8, 28.0 116.4 Q 29.1 115.0, 29.1 112.4 Q 29.1 109.8, 28.0 108.4 Q 26.9 107.1, 24.9 107.1 Q 22.9 107.1, 21.8 108.4 Q 20.7 109.7, 20.7 112.4 Q 20.7 115.1, 21.8 116.4 Q 22.9 117.8, 24.9 117.8 \" fill=\"#FF0000\"/>\n",
       "<path class=\"atom-5\" d=\"M 6.8 24.5 L 8.6 24.5 L 8.6 30.2 L 15.4 30.2 L 15.4 24.5 L 17.2 24.5 L 17.2 37.8 L 15.4 37.8 L 15.4 31.7 L 8.6 31.7 L 8.6 37.8 L 6.8 37.8 L 6.8 24.5 \" fill=\"#FF0000\"/>\n",
       "<path class=\"atom-5\" d=\"M 18.8 31.1 Q 18.8 28.0, 20.4 26.2 Q 22.0 24.4, 24.9 24.4 Q 27.8 24.4, 29.4 26.2 Q 31.0 28.0, 31.0 31.1 Q 31.0 34.4, 29.4 36.2 Q 27.8 38.0, 24.9 38.0 Q 22.0 38.0, 20.4 36.2 Q 18.8 34.4, 18.8 31.1 M 24.9 36.5 Q 26.9 36.5, 28.0 35.2 Q 29.1 33.8, 29.1 31.1 Q 29.1 28.5, 28.0 27.2 Q 26.9 25.9, 24.9 25.9 Q 22.9 25.9, 21.8 27.2 Q 20.7 28.5, 20.7 31.1 Q 20.7 33.8, 21.8 35.2 Q 22.9 36.5, 24.9 36.5 \" fill=\"#FF0000\"/>\n",
       "</svg></div>\n",
       "<div align=\"center\">2245273601</div></td><td><div align=\"center\"><svg xmlns=\"http://www.w3.org/2000/svg\" xmlns:rdkit=\"http://www.rdkit.org/xml\" xmlns:xlink=\"http://www.w3.org/1999/xlink\" version=\"1.1\" baseProfile=\"full\" xml:space=\"preserve\" width=\"150px\" height=\"150px\" viewBox=\"0 0 150 150\">\n",
       "<!-- END OF HEADER -->\n",
       "<rect style=\"opacity:1.0;fill:#FFFFFF;stroke:none\" width=\"150.0\" height=\"150.0\" x=\"0.0\" y=\"0.0\"> </rect>\n",
       "<path class=\"bond-0 atom-0 atom-1\" d=\"M 100.2,29.5 L 80.6,63.4\" style=\"fill:none;fill-rule:evenodd;stroke:#CCFF00;stroke-width:8.4px;stroke-linecap:butt;stroke-linejoin:miter;stroke-opacity:1\"/>\n",
       "<path class=\"bond-1 atom-1 atom-2\" d=\"M 80.6,63.4 L 100.2,97.3\" style=\"fill:none;fill-rule:evenodd;stroke:#CCFF00;stroke-width:8.4px;stroke-linecap:butt;stroke-linejoin:miter;stroke-opacity:1\"/>\n",
       "<path class=\"bond-2 atom-1 atom-3\" d=\"M 80.6,63.4 L 41.5,63.4\" style=\"fill:none;fill-rule:evenodd;stroke:#CCFF00;stroke-width:8.4px;stroke-linecap:butt;stroke-linejoin:miter;stroke-opacity:1\"/>\n",
       "<ellipse cx=\"100.2\" cy=\"29.5\" rx=\"13.0\" ry=\"13.0\" class=\"atom-0\" style=\"fill:#CCFF00;fill-rule:evenodd;stroke:#CCFF00;stroke-width:1.0px;stroke-linecap:butt;stroke-linejoin:miter;stroke-opacity:1\"/>\n",
       "<ellipse cx=\"80.6\" cy=\"63.4\" rx=\"13.0\" ry=\"13.0\" class=\"atom-1\" style=\"fill:#00FF00;fill-rule:evenodd;stroke:#00FF00;stroke-width:1.0px;stroke-linecap:butt;stroke-linejoin:miter;stroke-opacity:1\"/>\n",
       "<ellipse cx=\"108.3\" cy=\"100.0\" rx=\"17.4\" ry=\"13.0\" class=\"atom-2\" style=\"fill:#CCFF00;fill-rule:evenodd;stroke:#CCFF00;stroke-width:1.0px;stroke-linecap:butt;stroke-linejoin:miter;stroke-opacity:1\"/>\n",
       "<ellipse cx=\"41.5\" cy=\"63.4\" rx=\"13.0\" ry=\"13.0\" class=\"atom-3\" style=\"fill:#CCFF00;fill-rule:evenodd;stroke:#CCFF00;stroke-width:1.0px;stroke-linecap:butt;stroke-linejoin:miter;stroke-opacity:1\"/>\n",
       "<path class=\"bond-0 atom-0 atom-1\" d=\"M 100.2,29.5 L 80.6,63.4\" style=\"fill:none;fill-rule:evenodd;stroke:#000000;stroke-width:2.0px;stroke-linecap:butt;stroke-linejoin:miter;stroke-opacity:1\"/>\n",
       "<path class=\"bond-1 atom-1 atom-2\" d=\"M 80.6,63.4 L 88.5,76.9\" style=\"fill:none;fill-rule:evenodd;stroke:#000000;stroke-width:2.0px;stroke-linecap:butt;stroke-linejoin:miter;stroke-opacity:1\"/>\n",
       "<path class=\"bond-1 atom-1 atom-2\" d=\"M 88.5,76.9 L 96.3,90.4\" style=\"fill:none;fill-rule:evenodd;stroke:#0000FF;stroke-width:2.0px;stroke-linecap:butt;stroke-linejoin:miter;stroke-opacity:1\"/>\n",
       "<path class=\"bond-2 atom-1 atom-3\" d=\"M 80.6,63.4 L 41.5,63.4\" style=\"fill:none;fill-rule:evenodd;stroke:#000000;stroke-width:2.0px;stroke-linecap:butt;stroke-linejoin:miter;stroke-opacity:1\"/>\n",
       "<path class=\"bond-3 atom-3 atom-4\" d=\"M 44.9,65.3 L 37.1,78.8\" style=\"fill:none;fill-rule:evenodd;stroke:#000000;stroke-width:2.0px;stroke-linecap:butt;stroke-linejoin:miter;stroke-opacity:1\"/>\n",
       "<path class=\"bond-3 atom-3 atom-4\" d=\"M 37.1,78.8 L 29.3,92.3\" style=\"fill:none;fill-rule:evenodd;stroke:#FF0000;stroke-width:2.0px;stroke-linecap:butt;stroke-linejoin:miter;stroke-opacity:1\"/>\n",
       "<path class=\"bond-3 atom-3 atom-4\" d=\"M 38.1,61.4 L 30.3,74.9\" style=\"fill:none;fill-rule:evenodd;stroke:#000000;stroke-width:2.0px;stroke-linecap:butt;stroke-linejoin:miter;stroke-opacity:1\"/>\n",
       "<path class=\"bond-3 atom-3 atom-4\" d=\"M 30.3,74.9 L 22.5,88.4\" style=\"fill:none;fill-rule:evenodd;stroke:#FF0000;stroke-width:2.0px;stroke-linecap:butt;stroke-linejoin:miter;stroke-opacity:1\"/>\n",
       "<path class=\"bond-4 atom-3 atom-5\" d=\"M 41.5,63.4 L 33.7,50.0\" style=\"fill:none;fill-rule:evenodd;stroke:#000000;stroke-width:2.0px;stroke-linecap:butt;stroke-linejoin:miter;stroke-opacity:1\"/>\n",
       "<path class=\"bond-4 atom-3 atom-5\" d=\"M 33.7,50.0 L 26.0,36.5\" style=\"fill:none;fill-rule:evenodd;stroke:#FF0000;stroke-width:2.0px;stroke-linecap:butt;stroke-linejoin:miter;stroke-opacity:1\"/>\n",
       "<path class=\"atom-2\" d=\"M 97.8 91.7 L 101.4 97.6 Q 101.8 98.2, 102.3 99.2 Q 102.9 100.3, 102.9 100.3 L 102.9 91.7 L 104.4 91.7 L 104.4 102.8 L 102.9 102.8 L 99.0 96.4 Q 98.5 95.6, 98.1 94.8 Q 97.6 93.9, 97.4 93.7 L 97.4 102.8 L 96.0 102.8 L 96.0 91.7 L 97.8 91.7 \" fill=\"#0000FF\"/>\n",
       "<path class=\"atom-2\" d=\"M 105.7 91.7 L 107.2 91.7 L 107.2 96.4 L 112.9 96.4 L 112.9 91.7 L 114.4 91.7 L 114.4 102.8 L 112.9 102.8 L 112.9 97.7 L 107.2 97.7 L 107.2 102.8 L 105.7 102.8 L 105.7 91.7 \" fill=\"#0000FF\"/>\n",
       "<path class=\"atom-2\" d=\"M 115.7 102.4 Q 116.0 101.7, 116.7 101.4 Q 117.3 101.0, 118.2 101.0 Q 119.3 101.0, 119.9 101.6 Q 120.5 102.2, 120.5 103.2 Q 120.5 104.3, 119.7 105.3 Q 118.9 106.3, 117.3 107.5 L 120.7 107.5 L 120.7 108.4 L 115.7 108.4 L 115.7 107.7 Q 117.1 106.7, 117.9 106.0 Q 118.7 105.2, 119.1 104.6 Q 119.5 103.9, 119.5 103.3 Q 119.5 102.6, 119.1 102.2 Q 118.8 101.8, 118.2 101.8 Q 117.6 101.8, 117.2 102.0 Q 116.8 102.3, 116.5 102.8 L 115.7 102.4 \" fill=\"#0000FF\"/>\n",
       "<path class=\"atom-4\" d=\"M 16.8 97.3 Q 16.8 94.6, 18.1 93.2 Q 19.5 91.7, 21.9 91.7 Q 24.4 91.7, 25.7 93.2 Q 27.0 94.6, 27.0 97.3 Q 27.0 100.0, 25.7 101.5 Q 24.3 103.0, 21.9 103.0 Q 19.5 103.0, 18.1 101.5 Q 16.8 100.0, 16.8 97.3 M 21.9 101.8 Q 23.6 101.8, 24.5 100.7 Q 25.4 99.5, 25.4 97.3 Q 25.4 95.1, 24.5 94.0 Q 23.6 92.9, 21.9 92.9 Q 20.2 92.9, 19.3 94.0 Q 18.4 95.1, 18.4 97.3 Q 18.4 99.5, 19.3 100.7 Q 20.2 101.8, 21.9 101.8 \" fill=\"#FF0000\"/>\n",
       "<path class=\"atom-5\" d=\"M 6.8 24.0 L 8.3 24.0 L 8.3 28.7 L 14.0 28.7 L 14.0 24.0 L 15.5 24.0 L 15.5 35.1 L 14.0 35.1 L 14.0 29.9 L 8.3 29.9 L 8.3 35.1 L 6.8 35.1 L 6.8 24.0 \" fill=\"#FF0000\"/>\n",
       "<path class=\"atom-5\" d=\"M 16.8 29.5 Q 16.8 26.8, 18.1 25.3 Q 19.5 23.9, 21.9 23.9 Q 24.4 23.9, 25.7 25.3 Q 27.0 26.8, 27.0 29.5 Q 27.0 32.2, 25.7 33.7 Q 24.3 35.2, 21.9 35.2 Q 19.5 35.2, 18.1 33.7 Q 16.8 32.2, 16.8 29.5 M 21.9 34.0 Q 23.6 34.0, 24.5 32.9 Q 25.4 31.7, 25.4 29.5 Q 25.4 27.3, 24.5 26.2 Q 23.6 25.1, 21.9 25.1 Q 20.2 25.1, 19.3 26.2 Q 18.4 27.3, 18.4 29.5 Q 18.4 31.7, 19.3 32.9 Q 20.2 34.0, 21.9 34.0 \" fill=\"#FF0000\"/>\n",
       "</svg></div>\n",
       "<div align=\"center\">2655406212</div></td><td><div align=\"center\"><svg xmlns=\"http://www.w3.org/2000/svg\" xmlns:rdkit=\"http://www.rdkit.org/xml\" xmlns:xlink=\"http://www.w3.org/1999/xlink\" version=\"1.1\" baseProfile=\"full\" xml:space=\"preserve\" width=\"150px\" height=\"150px\" viewBox=\"0 0 150 150\">\n",
       "<!-- END OF HEADER -->\n",
       "<rect style=\"opacity:1.0;fill:#FFFFFF;stroke:none\" width=\"150.0\" height=\"150.0\" x=\"0.0\" y=\"0.0\"> </rect>\n",
       "<ellipse cx=\"108.3\" cy=\"100.0\" rx=\"17.4\" ry=\"13.0\" class=\"atom-2\" style=\"fill:#00FF00;fill-rule:evenodd;stroke:#00FF00;stroke-width:1.0px;stroke-linecap:butt;stroke-linejoin:miter;stroke-opacity:1\"/>\n",
       "<path class=\"bond-0 atom-0 atom-1\" d=\"M 100.2,29.5 L 80.6,63.4\" style=\"fill:none;fill-rule:evenodd;stroke:#000000;stroke-width:2.0px;stroke-linecap:butt;stroke-linejoin:miter;stroke-opacity:1\"/>\n",
       "<path class=\"bond-1 atom-1 atom-2\" d=\"M 80.6,63.4 L 88.5,76.9\" style=\"fill:none;fill-rule:evenodd;stroke:#000000;stroke-width:2.0px;stroke-linecap:butt;stroke-linejoin:miter;stroke-opacity:1\"/>\n",
       "<path class=\"bond-1 atom-1 atom-2\" d=\"M 88.5,76.9 L 96.3,90.4\" style=\"fill:none;fill-rule:evenodd;stroke:#0000FF;stroke-width:2.0px;stroke-linecap:butt;stroke-linejoin:miter;stroke-opacity:1\"/>\n",
       "<path class=\"bond-2 atom-1 atom-3\" d=\"M 80.6,63.4 L 41.5,63.4\" style=\"fill:none;fill-rule:evenodd;stroke:#000000;stroke-width:2.0px;stroke-linecap:butt;stroke-linejoin:miter;stroke-opacity:1\"/>\n",
       "<path class=\"bond-3 atom-3 atom-4\" d=\"M 44.9,65.3 L 37.1,78.8\" style=\"fill:none;fill-rule:evenodd;stroke:#000000;stroke-width:2.0px;stroke-linecap:butt;stroke-linejoin:miter;stroke-opacity:1\"/>\n",
       "<path class=\"bond-3 atom-3 atom-4\" d=\"M 37.1,78.8 L 29.3,92.3\" style=\"fill:none;fill-rule:evenodd;stroke:#FF0000;stroke-width:2.0px;stroke-linecap:butt;stroke-linejoin:miter;stroke-opacity:1\"/>\n",
       "<path class=\"bond-3 atom-3 atom-4\" d=\"M 38.1,61.4 L 30.3,74.9\" style=\"fill:none;fill-rule:evenodd;stroke:#000000;stroke-width:2.0px;stroke-linecap:butt;stroke-linejoin:miter;stroke-opacity:1\"/>\n",
       "<path class=\"bond-3 atom-3 atom-4\" d=\"M 30.3,74.9 L 22.5,88.4\" style=\"fill:none;fill-rule:evenodd;stroke:#FF0000;stroke-width:2.0px;stroke-linecap:butt;stroke-linejoin:miter;stroke-opacity:1\"/>\n",
       "<path class=\"bond-4 atom-3 atom-5\" d=\"M 41.5,63.4 L 33.7,50.0\" style=\"fill:none;fill-rule:evenodd;stroke:#000000;stroke-width:2.0px;stroke-linecap:butt;stroke-linejoin:miter;stroke-opacity:1\"/>\n",
       "<path class=\"bond-4 atom-3 atom-5\" d=\"M 33.7,50.0 L 26.0,36.5\" style=\"fill:none;fill-rule:evenodd;stroke:#FF0000;stroke-width:2.0px;stroke-linecap:butt;stroke-linejoin:miter;stroke-opacity:1\"/>\n",
       "<path class=\"atom-2\" d=\"M 97.8 91.7 L 101.4 97.6 Q 101.8 98.2, 102.3 99.2 Q 102.9 100.3, 102.9 100.3 L 102.9 91.7 L 104.4 91.7 L 104.4 102.8 L 102.9 102.8 L 99.0 96.4 Q 98.5 95.6, 98.1 94.8 Q 97.6 93.9, 97.4 93.7 L 97.4 102.8 L 96.0 102.8 L 96.0 91.7 L 97.8 91.7 \" fill=\"#0000FF\"/>\n",
       "<path class=\"atom-2\" d=\"M 105.7 91.7 L 107.2 91.7 L 107.2 96.4 L 112.9 96.4 L 112.9 91.7 L 114.4 91.7 L 114.4 102.8 L 112.9 102.8 L 112.9 97.7 L 107.2 97.7 L 107.2 102.8 L 105.7 102.8 L 105.7 91.7 \" fill=\"#0000FF\"/>\n",
       "<path class=\"atom-2\" d=\"M 115.7 102.4 Q 116.0 101.7, 116.7 101.4 Q 117.3 101.0, 118.2 101.0 Q 119.3 101.0, 119.9 101.6 Q 120.5 102.2, 120.5 103.2 Q 120.5 104.3, 119.7 105.3 Q 118.9 106.3, 117.3 107.5 L 120.7 107.5 L 120.7 108.4 L 115.7 108.4 L 115.7 107.7 Q 117.1 106.7, 117.9 106.0 Q 118.7 105.2, 119.1 104.6 Q 119.5 103.9, 119.5 103.3 Q 119.5 102.6, 119.1 102.2 Q 118.8 101.8, 118.2 101.8 Q 117.6 101.8, 117.2 102.0 Q 116.8 102.3, 116.5 102.8 L 115.7 102.4 \" fill=\"#0000FF\"/>\n",
       "<path class=\"atom-4\" d=\"M 16.8 97.3 Q 16.8 94.6, 18.1 93.2 Q 19.5 91.7, 21.9 91.7 Q 24.4 91.7, 25.7 93.2 Q 27.0 94.6, 27.0 97.3 Q 27.0 100.0, 25.7 101.5 Q 24.3 103.0, 21.9 103.0 Q 19.5 103.0, 18.1 101.5 Q 16.8 100.0, 16.8 97.3 M 21.9 101.8 Q 23.6 101.8, 24.5 100.7 Q 25.4 99.5, 25.4 97.3 Q 25.4 95.1, 24.5 94.0 Q 23.6 92.9, 21.9 92.9 Q 20.2 92.9, 19.3 94.0 Q 18.4 95.1, 18.4 97.3 Q 18.4 99.5, 19.3 100.7 Q 20.2 101.8, 21.9 101.8 \" fill=\"#FF0000\"/>\n",
       "<path class=\"atom-5\" d=\"M 6.8 24.0 L 8.3 24.0 L 8.3 28.7 L 14.0 28.7 L 14.0 24.0 L 15.5 24.0 L 15.5 35.1 L 14.0 35.1 L 14.0 29.9 L 8.3 29.9 L 8.3 35.1 L 6.8 35.1 L 6.8 24.0 \" fill=\"#FF0000\"/>\n",
       "<path class=\"atom-5\" d=\"M 16.8 29.5 Q 16.8 26.8, 18.1 25.3 Q 19.5 23.9, 21.9 23.9 Q 24.4 23.9, 25.7 25.3 Q 27.0 26.8, 27.0 29.5 Q 27.0 32.2, 25.7 33.7 Q 24.3 35.2, 21.9 35.2 Q 19.5 35.2, 18.1 33.7 Q 16.8 32.2, 16.8 29.5 M 21.9 34.0 Q 23.6 34.0, 24.5 32.9 Q 25.4 31.7, 25.4 29.5 Q 25.4 27.3, 24.5 26.2 Q 23.6 25.1, 21.9 25.1 Q 20.2 25.1, 19.3 26.2 Q 18.4 27.3, 18.4 29.5 Q 18.4 31.7, 19.3 32.9 Q 20.2 34.0, 21.9 34.0 \" fill=\"#FF0000\"/>\n",
       "</svg></div>\n",
       "<div align=\"center\">847957139</div></td></tr><tr><td><div align=\"center\"><svg xmlns=\"http://www.w3.org/2000/svg\" xmlns:rdkit=\"http://www.rdkit.org/xml\" xmlns:xlink=\"http://www.w3.org/1999/xlink\" version=\"1.1\" baseProfile=\"full\" xml:space=\"preserve\" width=\"150px\" height=\"150px\" viewBox=\"0 0 150 150\">\n",
       "<!-- END OF HEADER -->\n",
       "<rect style=\"opacity:1.0;fill:#FFFFFF;stroke:none\" width=\"150.0\" height=\"150.0\" x=\"0.0\" y=\"0.0\"> </rect>\n",
       "<path class=\"bond-1 atom-1 atom-2\" d=\"M 80.6,63.4 L 100.2,97.3\" style=\"fill:none;fill-rule:evenodd;stroke:#CCFF00;stroke-width:8.4px;stroke-linecap:butt;stroke-linejoin:miter;stroke-opacity:1\"/>\n",
       "<ellipse cx=\"80.6\" cy=\"63.4\" rx=\"13.0\" ry=\"13.0\" class=\"atom-1\" style=\"fill:#CCFF00;fill-rule:evenodd;stroke:#CCFF00;stroke-width:1.0px;stroke-linecap:butt;stroke-linejoin:miter;stroke-opacity:1\"/>\n",
       "<ellipse cx=\"108.3\" cy=\"100.0\" rx=\"17.4\" ry=\"13.0\" class=\"atom-2\" style=\"fill:#00FF00;fill-rule:evenodd;stroke:#00FF00;stroke-width:1.0px;stroke-linecap:butt;stroke-linejoin:miter;stroke-opacity:1\"/>\n",
       "<path class=\"bond-0 atom-0 atom-1\" d=\"M 100.2,29.5 L 80.6,63.4\" style=\"fill:none;fill-rule:evenodd;stroke:#000000;stroke-width:2.0px;stroke-linecap:butt;stroke-linejoin:miter;stroke-opacity:1\"/>\n",
       "<path class=\"bond-1 atom-1 atom-2\" d=\"M 80.6,63.4 L 88.5,76.9\" style=\"fill:none;fill-rule:evenodd;stroke:#000000;stroke-width:2.0px;stroke-linecap:butt;stroke-linejoin:miter;stroke-opacity:1\"/>\n",
       "<path class=\"bond-1 atom-1 atom-2\" d=\"M 88.5,76.9 L 96.3,90.4\" style=\"fill:none;fill-rule:evenodd;stroke:#0000FF;stroke-width:2.0px;stroke-linecap:butt;stroke-linejoin:miter;stroke-opacity:1\"/>\n",
       "<path class=\"bond-2 atom-1 atom-3\" d=\"M 80.6,63.4 L 41.5,63.4\" style=\"fill:none;fill-rule:evenodd;stroke:#000000;stroke-width:2.0px;stroke-linecap:butt;stroke-linejoin:miter;stroke-opacity:1\"/>\n",
       "<path class=\"bond-3 atom-3 atom-4\" d=\"M 44.9,65.3 L 37.1,78.8\" style=\"fill:none;fill-rule:evenodd;stroke:#000000;stroke-width:2.0px;stroke-linecap:butt;stroke-linejoin:miter;stroke-opacity:1\"/>\n",
       "<path class=\"bond-3 atom-3 atom-4\" d=\"M 37.1,78.8 L 29.3,92.3\" style=\"fill:none;fill-rule:evenodd;stroke:#FF0000;stroke-width:2.0px;stroke-linecap:butt;stroke-linejoin:miter;stroke-opacity:1\"/>\n",
       "<path class=\"bond-3 atom-3 atom-4\" d=\"M 38.1,61.4 L 30.3,74.9\" style=\"fill:none;fill-rule:evenodd;stroke:#000000;stroke-width:2.0px;stroke-linecap:butt;stroke-linejoin:miter;stroke-opacity:1\"/>\n",
       "<path class=\"bond-3 atom-3 atom-4\" d=\"M 30.3,74.9 L 22.5,88.4\" style=\"fill:none;fill-rule:evenodd;stroke:#FF0000;stroke-width:2.0px;stroke-linecap:butt;stroke-linejoin:miter;stroke-opacity:1\"/>\n",
       "<path class=\"bond-4 atom-3 atom-5\" d=\"M 41.5,63.4 L 33.7,50.0\" style=\"fill:none;fill-rule:evenodd;stroke:#000000;stroke-width:2.0px;stroke-linecap:butt;stroke-linejoin:miter;stroke-opacity:1\"/>\n",
       "<path class=\"bond-4 atom-3 atom-5\" d=\"M 33.7,50.0 L 26.0,36.5\" style=\"fill:none;fill-rule:evenodd;stroke:#FF0000;stroke-width:2.0px;stroke-linecap:butt;stroke-linejoin:miter;stroke-opacity:1\"/>\n",
       "<path class=\"atom-2\" d=\"M 97.8 91.7 L 101.4 97.6 Q 101.8 98.2, 102.3 99.2 Q 102.9 100.3, 102.9 100.3 L 102.9 91.7 L 104.4 91.7 L 104.4 102.8 L 102.9 102.8 L 99.0 96.4 Q 98.5 95.6, 98.1 94.8 Q 97.6 93.9, 97.4 93.7 L 97.4 102.8 L 96.0 102.8 L 96.0 91.7 L 97.8 91.7 \" fill=\"#0000FF\"/>\n",
       "<path class=\"atom-2\" d=\"M 105.7 91.7 L 107.2 91.7 L 107.2 96.4 L 112.9 96.4 L 112.9 91.7 L 114.4 91.7 L 114.4 102.8 L 112.9 102.8 L 112.9 97.7 L 107.2 97.7 L 107.2 102.8 L 105.7 102.8 L 105.7 91.7 \" fill=\"#0000FF\"/>\n",
       "<path class=\"atom-2\" d=\"M 115.7 102.4 Q 116.0 101.7, 116.7 101.4 Q 117.3 101.0, 118.2 101.0 Q 119.3 101.0, 119.9 101.6 Q 120.5 102.2, 120.5 103.2 Q 120.5 104.3, 119.7 105.3 Q 118.9 106.3, 117.3 107.5 L 120.7 107.5 L 120.7 108.4 L 115.7 108.4 L 115.7 107.7 Q 117.1 106.7, 117.9 106.0 Q 118.7 105.2, 119.1 104.6 Q 119.5 103.9, 119.5 103.3 Q 119.5 102.6, 119.1 102.2 Q 118.8 101.8, 118.2 101.8 Q 117.6 101.8, 117.2 102.0 Q 116.8 102.3, 116.5 102.8 L 115.7 102.4 \" fill=\"#0000FF\"/>\n",
       "<path class=\"atom-4\" d=\"M 16.8 97.3 Q 16.8 94.6, 18.1 93.2 Q 19.5 91.7, 21.9 91.7 Q 24.4 91.7, 25.7 93.2 Q 27.0 94.6, 27.0 97.3 Q 27.0 100.0, 25.7 101.5 Q 24.3 103.0, 21.9 103.0 Q 19.5 103.0, 18.1 101.5 Q 16.8 100.0, 16.8 97.3 M 21.9 101.8 Q 23.6 101.8, 24.5 100.7 Q 25.4 99.5, 25.4 97.3 Q 25.4 95.1, 24.5 94.0 Q 23.6 92.9, 21.9 92.9 Q 20.2 92.9, 19.3 94.0 Q 18.4 95.1, 18.4 97.3 Q 18.4 99.5, 19.3 100.7 Q 20.2 101.8, 21.9 101.8 \" fill=\"#FF0000\"/>\n",
       "<path class=\"atom-5\" d=\"M 6.8 24.0 L 8.3 24.0 L 8.3 28.7 L 14.0 28.7 L 14.0 24.0 L 15.5 24.0 L 15.5 35.1 L 14.0 35.1 L 14.0 29.9 L 8.3 29.9 L 8.3 35.1 L 6.8 35.1 L 6.8 24.0 \" fill=\"#FF0000\"/>\n",
       "<path class=\"atom-5\" d=\"M 16.8 29.5 Q 16.8 26.8, 18.1 25.3 Q 19.5 23.9, 21.9 23.9 Q 24.4 23.9, 25.7 25.3 Q 27.0 26.8, 27.0 29.5 Q 27.0 32.2, 25.7 33.7 Q 24.3 35.2, 21.9 35.2 Q 19.5 35.2, 18.1 33.7 Q 16.8 32.2, 16.8 29.5 M 21.9 34.0 Q 23.6 34.0, 24.5 32.9 Q 25.4 31.7, 25.4 29.5 Q 25.4 27.3, 24.5 26.2 Q 23.6 25.1, 21.9 25.1 Q 20.2 25.1, 19.3 26.2 Q 18.4 27.3, 18.4 29.5 Q 18.4 31.7, 19.3 32.9 Q 20.2 34.0, 21.9 34.0 \" fill=\"#FF0000\"/>\n",
       "</svg></div>\n",
       "<div align=\"center\">2599973650</div></td><td><div align=\"center\"><svg xmlns=\"http://www.w3.org/2000/svg\" xmlns:rdkit=\"http://www.rdkit.org/xml\" xmlns:xlink=\"http://www.w3.org/1999/xlink\" version=\"1.1\" baseProfile=\"full\" xml:space=\"preserve\" width=\"150px\" height=\"150px\" viewBox=\"0 0 150 150\">\n",
       "<!-- END OF HEADER -->\n",
       "<rect style=\"opacity:1.0;fill:#FFFFFF;stroke:none\" width=\"150.0\" height=\"150.0\" x=\"0.0\" y=\"0.0\"> </rect>\n",
       "<ellipse cx=\"48.4\" cy=\"71.7\" rx=\"15.6\" ry=\"15.6\" class=\"atom-3\" style=\"fill:#00FF00;fill-rule:evenodd;stroke:#00FF00;stroke-width:1.0px;stroke-linecap:butt;stroke-linejoin:miter;stroke-opacity:1\"/>\n",
       "<path class=\"bond-0 atom-0 atom-1\" d=\"M 118.7,31.1 L 95.2,71.7\" style=\"fill:none;fill-rule:evenodd;stroke:#000000;stroke-width:2.0px;stroke-linecap:butt;stroke-linejoin:miter;stroke-opacity:1\"/>\n",
       "<path class=\"bond-1 atom-1 atom-2\" d=\"M 95.2,71.7 L 104.6,87.9\" style=\"fill:none;fill-rule:evenodd;stroke:#000000;stroke-width:2.0px;stroke-linecap:butt;stroke-linejoin:miter;stroke-opacity:1\"/>\n",
       "<path class=\"bond-1 atom-1 atom-2\" d=\"M 104.6,87.9 L 114.0,104.1\" style=\"fill:none;fill-rule:evenodd;stroke:#0000FF;stroke-width:2.0px;stroke-linecap:butt;stroke-linejoin:miter;stroke-opacity:1\"/>\n",
       "<path class=\"bond-2 atom-1 atom-3\" d=\"M 95.2,71.7 L 48.4,71.7\" style=\"fill:none;fill-rule:evenodd;stroke:#000000;stroke-width:2.0px;stroke-linecap:butt;stroke-linejoin:miter;stroke-opacity:1\"/>\n",
       "<path class=\"bond-3 atom-3 atom-4\" d=\"M 52.4,74.1 L 43.1,90.2\" style=\"fill:none;fill-rule:evenodd;stroke:#000000;stroke-width:2.0px;stroke-linecap:butt;stroke-linejoin:miter;stroke-opacity:1\"/>\n",
       "<path class=\"bond-3 atom-3 atom-4\" d=\"M 43.1,90.2 L 33.7,106.4\" style=\"fill:none;fill-rule:evenodd;stroke:#FF0000;stroke-width:2.0px;stroke-linecap:butt;stroke-linejoin:miter;stroke-opacity:1\"/>\n",
       "<path class=\"bond-3 atom-3 atom-4\" d=\"M 44.3,69.4 L 34.9,85.5\" style=\"fill:none;fill-rule:evenodd;stroke:#000000;stroke-width:2.0px;stroke-linecap:butt;stroke-linejoin:miter;stroke-opacity:1\"/>\n",
       "<path class=\"bond-3 atom-3 atom-4\" d=\"M 34.9,85.5 L 25.6,101.7\" style=\"fill:none;fill-rule:evenodd;stroke:#FF0000;stroke-width:2.0px;stroke-linecap:butt;stroke-linejoin:miter;stroke-opacity:1\"/>\n",
       "<path class=\"bond-4 atom-3 atom-5\" d=\"M 48.4,71.7 L 39.1,55.6\" style=\"fill:none;fill-rule:evenodd;stroke:#000000;stroke-width:2.0px;stroke-linecap:butt;stroke-linejoin:miter;stroke-opacity:1\"/>\n",
       "<path class=\"bond-4 atom-3 atom-5\" d=\"M 39.1,55.6 L 29.8,39.6\" style=\"fill:none;fill-rule:evenodd;stroke:#FF0000;stroke-width:2.0px;stroke-linecap:butt;stroke-linejoin:miter;stroke-opacity:1\"/>\n",
       "<path class=\"atom-2\" d=\"M 115.8 105.7 L 120.1 112.7 Q 120.5 113.4, 121.2 114.7 Q 121.9 115.9, 122.0 116.0 L 122.0 105.7 L 123.7 105.7 L 123.7 119.0 L 121.9 119.0 L 117.2 111.3 Q 116.7 110.4, 116.1 109.3 Q 115.6 108.3, 115.4 108.0 L 115.4 119.0 L 113.7 119.0 L 113.7 105.7 L 115.8 105.7 \" fill=\"#0000FF\"/>\n",
       "<path class=\"atom-2\" d=\"M 125.3 105.7 L 127.1 105.7 L 127.1 111.3 L 133.9 111.3 L 133.9 105.7 L 135.7 105.7 L 135.7 119.0 L 133.9 119.0 L 133.9 112.8 L 127.1 112.8 L 127.1 119.0 L 125.3 119.0 L 125.3 105.7 \" fill=\"#0000FF\"/>\n",
       "<path class=\"atom-2\" d=\"M 137.3 118.5 Q 137.6 117.7, 138.4 117.2 Q 139.2 116.7, 140.2 116.7 Q 141.5 116.7, 142.3 117.5 Q 143.0 118.2, 143.0 119.5 Q 143.0 120.8, 142.1 122.0 Q 141.1 123.2, 139.1 124.6 L 143.2 124.6 L 143.2 125.6 L 137.3 125.6 L 137.3 124.8 Q 138.9 123.6, 139.9 122.8 Q 140.9 121.9, 141.3 121.1 Q 141.8 120.3, 141.8 119.5 Q 141.8 118.7, 141.4 118.2 Q 141.0 117.7, 140.2 117.7 Q 139.5 117.7, 139.0 118.0 Q 138.6 118.3, 138.2 118.9 L 137.3 118.5 \" fill=\"#0000FF\"/>\n",
       "<path class=\"atom-4\" d=\"M 18.8 112.4 Q 18.8 109.2, 20.4 107.4 Q 22.0 105.6, 24.9 105.6 Q 27.8 105.6, 29.4 107.4 Q 31.0 109.2, 31.0 112.4 Q 31.0 115.6, 29.4 117.4 Q 27.8 119.3, 24.9 119.3 Q 22.0 119.3, 20.4 117.4 Q 18.8 115.6, 18.8 112.4 M 24.9 117.8 Q 26.9 117.8, 28.0 116.4 Q 29.1 115.0, 29.1 112.4 Q 29.1 109.8, 28.0 108.4 Q 26.9 107.1, 24.9 107.1 Q 22.9 107.1, 21.8 108.4 Q 20.7 109.7, 20.7 112.4 Q 20.7 115.1, 21.8 116.4 Q 22.9 117.8, 24.9 117.8 \" fill=\"#FF0000\"/>\n",
       "<path class=\"atom-5\" d=\"M 6.8 24.5 L 8.6 24.5 L 8.6 30.2 L 15.4 30.2 L 15.4 24.5 L 17.2 24.5 L 17.2 37.8 L 15.4 37.8 L 15.4 31.7 L 8.6 31.7 L 8.6 37.8 L 6.8 37.8 L 6.8 24.5 \" fill=\"#FF0000\"/>\n",
       "<path class=\"atom-5\" d=\"M 18.8 31.1 Q 18.8 28.0, 20.4 26.2 Q 22.0 24.4, 24.9 24.4 Q 27.8 24.4, 29.4 26.2 Q 31.0 28.0, 31.0 31.1 Q 31.0 34.4, 29.4 36.2 Q 27.8 38.0, 24.9 38.0 Q 22.0 38.0, 20.4 36.2 Q 18.8 34.4, 18.8 31.1 M 24.9 36.5 Q 26.9 36.5, 28.0 35.2 Q 29.1 33.8, 29.1 31.1 Q 29.1 28.5, 28.0 27.2 Q 26.9 25.9, 24.9 25.9 Q 22.9 25.9, 21.8 27.2 Q 20.7 28.5, 20.7 31.1 Q 20.7 33.8, 21.8 35.2 Q 22.9 36.5, 24.9 36.5 \" fill=\"#FF0000\"/>\n",
       "</svg></div>\n",
       "<div align=\"center\">2246699815</div></td><td><div align=\"center\"><svg xmlns=\"http://www.w3.org/2000/svg\" xmlns:rdkit=\"http://www.rdkit.org/xml\" xmlns:xlink=\"http://www.w3.org/1999/xlink\" version=\"1.1\" baseProfile=\"full\" xml:space=\"preserve\" width=\"150px\" height=\"150px\" viewBox=\"0 0 150 150\">\n",
       "<!-- END OF HEADER -->\n",
       "<rect style=\"opacity:1.0;fill:#FFFFFF;stroke:none\" width=\"150.0\" height=\"150.0\" x=\"0.0\" y=\"0.0\"> </rect>\n",
       "<path class=\"bond-2 atom-1 atom-3\" d=\"M 95.2,62.7 L 48.4,62.7\" style=\"fill:none;fill-rule:evenodd;stroke:#CCFF00;stroke-width:10.0px;stroke-linecap:butt;stroke-linejoin:miter;stroke-opacity:1\"/>\n",
       "<path class=\"bond-3 atom-3 atom-4\" d=\"M 48.4,62.7 L 24.9,103.3\" style=\"fill:none;fill-rule:evenodd;stroke:#CCFF00;stroke-width:10.0px;stroke-linecap:butt;stroke-linejoin:miter;stroke-opacity:1\"/>\n",
       "<path class=\"bond-4 atom-3 atom-5\" d=\"M 48.4,62.7 L 24.9,22.1\" style=\"fill:none;fill-rule:evenodd;stroke:#CCFF00;stroke-width:10.0px;stroke-linecap:butt;stroke-linejoin:miter;stroke-opacity:1\"/>\n",
       "<ellipse cx=\"95.2\" cy=\"62.7\" rx=\"15.6\" ry=\"15.6\" class=\"atom-1\" style=\"fill:#CCFF00;fill-rule:evenodd;stroke:#CCFF00;stroke-width:1.0px;stroke-linecap:butt;stroke-linejoin:miter;stroke-opacity:1\"/>\n",
       "<ellipse cx=\"48.4\" cy=\"62.7\" rx=\"15.6\" ry=\"15.6\" class=\"atom-3\" style=\"fill:#00FF00;fill-rule:evenodd;stroke:#00FF00;stroke-width:1.0px;stroke-linecap:butt;stroke-linejoin:miter;stroke-opacity:1\"/>\n",
       "<ellipse cx=\"24.9\" cy=\"103.4\" rx=\"15.6\" ry=\"15.6\" class=\"atom-4\" style=\"fill:#CCFF00;fill-rule:evenodd;stroke:#CCFF00;stroke-width:1.0px;stroke-linecap:butt;stroke-linejoin:miter;stroke-opacity:1\"/>\n",
       "<ellipse cx=\"18.9\" cy=\"22.2\" rx=\"17.1\" ry=\"15.6\" class=\"atom-5\" style=\"fill:#CCFF00;fill-rule:evenodd;stroke:#CCFF00;stroke-width:1.0px;stroke-linecap:butt;stroke-linejoin:miter;stroke-opacity:1\"/>\n",
       "<path class=\"bond-0 atom-0 atom-1\" d=\"M 118.7,22.1 L 95.2,62.7\" style=\"fill:none;fill-rule:evenodd;stroke:#000000;stroke-width:2.0px;stroke-linecap:butt;stroke-linejoin:miter;stroke-opacity:1\"/>\n",
       "<path class=\"bond-1 atom-1 atom-2\" d=\"M 95.2,62.7 L 104.6,78.9\" style=\"fill:none;fill-rule:evenodd;stroke:#000000;stroke-width:2.0px;stroke-linecap:butt;stroke-linejoin:miter;stroke-opacity:1\"/>\n",
       "<path class=\"bond-1 atom-1 atom-2\" d=\"M 104.6,78.9 L 114.0,95.1\" style=\"fill:none;fill-rule:evenodd;stroke:#0000FF;stroke-width:2.0px;stroke-linecap:butt;stroke-linejoin:miter;stroke-opacity:1\"/>\n",
       "<path class=\"bond-2 atom-1 atom-3\" d=\"M 95.2,62.7 L 48.4,62.7\" style=\"fill:none;fill-rule:evenodd;stroke:#000000;stroke-width:2.0px;stroke-linecap:butt;stroke-linejoin:miter;stroke-opacity:1\"/>\n",
       "<path class=\"bond-3 atom-3 atom-4\" d=\"M 52.4,65.0 L 43.1,81.2\" style=\"fill:none;fill-rule:evenodd;stroke:#000000;stroke-width:2.0px;stroke-linecap:butt;stroke-linejoin:miter;stroke-opacity:1\"/>\n",
       "<path class=\"bond-3 atom-3 atom-4\" d=\"M 43.1,81.2 L 33.7,97.4\" style=\"fill:none;fill-rule:evenodd;stroke:#FF0000;stroke-width:2.0px;stroke-linecap:butt;stroke-linejoin:miter;stroke-opacity:1\"/>\n",
       "<path class=\"bond-3 atom-3 atom-4\" d=\"M 44.3,60.3 L 34.9,76.5\" style=\"fill:none;fill-rule:evenodd;stroke:#000000;stroke-width:2.0px;stroke-linecap:butt;stroke-linejoin:miter;stroke-opacity:1\"/>\n",
       "<path class=\"bond-3 atom-3 atom-4\" d=\"M 34.9,76.5 L 25.6,92.7\" style=\"fill:none;fill-rule:evenodd;stroke:#FF0000;stroke-width:2.0px;stroke-linecap:butt;stroke-linejoin:miter;stroke-opacity:1\"/>\n",
       "<path class=\"bond-4 atom-3 atom-5\" d=\"M 48.4,62.7 L 39.1,46.6\" style=\"fill:none;fill-rule:evenodd;stroke:#000000;stroke-width:2.0px;stroke-linecap:butt;stroke-linejoin:miter;stroke-opacity:1\"/>\n",
       "<path class=\"bond-4 atom-3 atom-5\" d=\"M 39.1,46.6 L 29.8,30.5\" style=\"fill:none;fill-rule:evenodd;stroke:#FF0000;stroke-width:2.0px;stroke-linecap:butt;stroke-linejoin:miter;stroke-opacity:1\"/>\n",
       "<path class=\"atom-2\" d=\"M 115.8 96.6 L 120.1 103.7 Q 120.5 104.4, 121.2 105.6 Q 121.9 106.9, 122.0 107.0 L 122.0 96.6 L 123.7 96.6 L 123.7 109.9 L 121.9 109.9 L 117.2 102.2 Q 116.7 101.3, 116.1 100.3 Q 115.6 99.3, 115.4 99.0 L 115.4 109.9 L 113.7 109.9 L 113.7 96.6 L 115.8 96.6 \" fill=\"#0000FF\"/>\n",
       "<path class=\"atom-2\" d=\"M 125.3 96.6 L 127.1 96.6 L 127.1 102.3 L 133.9 102.3 L 133.9 96.6 L 135.7 96.6 L 135.7 109.9 L 133.9 109.9 L 133.9 103.8 L 127.1 103.8 L 127.1 109.9 L 125.3 109.9 L 125.3 96.6 \" fill=\"#0000FF\"/>\n",
       "<path class=\"atom-2\" d=\"M 137.3 109.5 Q 137.6 108.6, 138.4 108.2 Q 139.2 107.7, 140.2 107.7 Q 141.5 107.7, 142.3 108.4 Q 143.0 109.1, 143.0 110.4 Q 143.0 111.7, 142.1 112.9 Q 141.1 114.1, 139.1 115.6 L 143.2 115.6 L 143.2 116.6 L 137.3 116.6 L 137.3 115.7 Q 138.9 114.6, 139.9 113.7 Q 140.9 112.8, 141.3 112.1 Q 141.8 111.3, 141.8 110.5 Q 141.8 109.6, 141.4 109.2 Q 141.0 108.7, 140.2 108.7 Q 139.5 108.7, 139.0 109.0 Q 138.6 109.3, 138.2 109.9 L 137.3 109.5 \" fill=\"#0000FF\"/>\n",
       "<path class=\"atom-4\" d=\"M 18.8 103.3 Q 18.8 100.1, 20.4 98.4 Q 22.0 96.6, 24.9 96.6 Q 27.8 96.6, 29.4 98.4 Q 31.0 100.1, 31.0 103.3 Q 31.0 106.6, 29.4 108.4 Q 27.8 110.2, 24.9 110.2 Q 22.0 110.2, 20.4 108.4 Q 18.8 106.6, 18.8 103.3 M 24.9 108.7 Q 26.9 108.7, 28.0 107.4 Q 29.1 106.0, 29.1 103.3 Q 29.1 100.7, 28.0 99.4 Q 26.9 98.1, 24.9 98.1 Q 22.9 98.1, 21.8 99.4 Q 20.7 100.7, 20.7 103.3 Q 20.7 106.0, 21.8 107.4 Q 22.9 108.7, 24.9 108.7 \" fill=\"#FF0000\"/>\n",
       "<path class=\"atom-5\" d=\"M 6.8 15.5 L 8.6 15.5 L 8.6 21.1 L 15.4 21.1 L 15.4 15.5 L 17.2 15.5 L 17.2 28.8 L 15.4 28.8 L 15.4 22.6 L 8.6 22.6 L 8.6 28.8 L 6.8 28.8 L 6.8 15.5 \" fill=\"#FF0000\"/>\n",
       "<path class=\"atom-5\" d=\"M 18.8 22.1 Q 18.8 18.9, 20.4 17.1 Q 22.0 15.3, 24.9 15.3 Q 27.8 15.3, 29.4 17.1 Q 31.0 18.9, 31.0 22.1 Q 31.0 25.3, 29.4 27.2 Q 27.8 29.0, 24.9 29.0 Q 22.0 29.0, 20.4 27.2 Q 18.8 25.3, 18.8 22.1 M 24.9 27.5 Q 26.9 27.5, 28.0 26.1 Q 29.1 24.8, 29.1 22.1 Q 29.1 19.5, 28.0 18.2 Q 26.9 16.8, 24.9 16.8 Q 22.9 16.8, 21.8 18.2 Q 20.7 19.5, 20.7 22.1 Q 20.7 24.8, 21.8 26.1 Q 22.9 27.5, 24.9 27.5 \" fill=\"#FF0000\"/>\n",
       "</svg></div>\n",
       "<div align=\"center\">3855312692</div></td><td><div align=\"center\"><svg xmlns=\"http://www.w3.org/2000/svg\" xmlns:rdkit=\"http://www.rdkit.org/xml\" xmlns:xlink=\"http://www.w3.org/1999/xlink\" version=\"1.1\" baseProfile=\"full\" xml:space=\"preserve\" width=\"150px\" height=\"150px\" viewBox=\"0 0 150 150\">\n",
       "<!-- END OF HEADER -->\n",
       "<rect style=\"opacity:1.0;fill:#FFFFFF;stroke:none\" width=\"150.0\" height=\"150.0\" x=\"0.0\" y=\"0.0\"> </rect>\n",
       "<ellipse cx=\"24.9\" cy=\"103.4\" rx=\"15.6\" ry=\"15.6\" class=\"atom-4\" style=\"fill:#00FF00;fill-rule:evenodd;stroke:#00FF00;stroke-width:1.0px;stroke-linecap:butt;stroke-linejoin:miter;stroke-opacity:1\"/>\n",
       "<path class=\"bond-0 atom-0 atom-1\" d=\"M 118.7,22.1 L 95.2,62.7\" style=\"fill:none;fill-rule:evenodd;stroke:#000000;stroke-width:2.0px;stroke-linecap:butt;stroke-linejoin:miter;stroke-opacity:1\"/>\n",
       "<path class=\"bond-1 atom-1 atom-2\" d=\"M 95.2,62.7 L 104.6,78.9\" style=\"fill:none;fill-rule:evenodd;stroke:#000000;stroke-width:2.0px;stroke-linecap:butt;stroke-linejoin:miter;stroke-opacity:1\"/>\n",
       "<path class=\"bond-1 atom-1 atom-2\" d=\"M 104.6,78.9 L 114.0,95.1\" style=\"fill:none;fill-rule:evenodd;stroke:#0000FF;stroke-width:2.0px;stroke-linecap:butt;stroke-linejoin:miter;stroke-opacity:1\"/>\n",
       "<path class=\"bond-2 atom-1 atom-3\" d=\"M 95.2,62.7 L 48.4,62.7\" style=\"fill:none;fill-rule:evenodd;stroke:#000000;stroke-width:2.0px;stroke-linecap:butt;stroke-linejoin:miter;stroke-opacity:1\"/>\n",
       "<path class=\"bond-3 atom-3 atom-4\" d=\"M 52.4,65.0 L 43.1,81.2\" style=\"fill:none;fill-rule:evenodd;stroke:#000000;stroke-width:2.0px;stroke-linecap:butt;stroke-linejoin:miter;stroke-opacity:1\"/>\n",
       "<path class=\"bond-3 atom-3 atom-4\" d=\"M 43.1,81.2 L 33.7,97.4\" style=\"fill:none;fill-rule:evenodd;stroke:#FF0000;stroke-width:2.0px;stroke-linecap:butt;stroke-linejoin:miter;stroke-opacity:1\"/>\n",
       "<path class=\"bond-3 atom-3 atom-4\" d=\"M 44.3,60.3 L 34.9,76.5\" style=\"fill:none;fill-rule:evenodd;stroke:#000000;stroke-width:2.0px;stroke-linecap:butt;stroke-linejoin:miter;stroke-opacity:1\"/>\n",
       "<path class=\"bond-3 atom-3 atom-4\" d=\"M 34.9,76.5 L 25.6,92.7\" style=\"fill:none;fill-rule:evenodd;stroke:#FF0000;stroke-width:2.0px;stroke-linecap:butt;stroke-linejoin:miter;stroke-opacity:1\"/>\n",
       "<path class=\"bond-4 atom-3 atom-5\" d=\"M 48.4,62.7 L 39.1,46.6\" style=\"fill:none;fill-rule:evenodd;stroke:#000000;stroke-width:2.0px;stroke-linecap:butt;stroke-linejoin:miter;stroke-opacity:1\"/>\n",
       "<path class=\"bond-4 atom-3 atom-5\" d=\"M 39.1,46.6 L 29.8,30.5\" style=\"fill:none;fill-rule:evenodd;stroke:#FF0000;stroke-width:2.0px;stroke-linecap:butt;stroke-linejoin:miter;stroke-opacity:1\"/>\n",
       "<path class=\"atom-2\" d=\"M 115.8 96.6 L 120.1 103.7 Q 120.5 104.4, 121.2 105.6 Q 121.9 106.9, 122.0 107.0 L 122.0 96.6 L 123.7 96.6 L 123.7 109.9 L 121.9 109.9 L 117.2 102.2 Q 116.7 101.3, 116.1 100.3 Q 115.6 99.3, 115.4 99.0 L 115.4 109.9 L 113.7 109.9 L 113.7 96.6 L 115.8 96.6 \" fill=\"#0000FF\"/>\n",
       "<path class=\"atom-2\" d=\"M 125.3 96.6 L 127.1 96.6 L 127.1 102.3 L 133.9 102.3 L 133.9 96.6 L 135.7 96.6 L 135.7 109.9 L 133.9 109.9 L 133.9 103.8 L 127.1 103.8 L 127.1 109.9 L 125.3 109.9 L 125.3 96.6 \" fill=\"#0000FF\"/>\n",
       "<path class=\"atom-2\" d=\"M 137.3 109.5 Q 137.6 108.6, 138.4 108.2 Q 139.2 107.7, 140.2 107.7 Q 141.5 107.7, 142.3 108.4 Q 143.0 109.1, 143.0 110.4 Q 143.0 111.7, 142.1 112.9 Q 141.1 114.1, 139.1 115.6 L 143.2 115.6 L 143.2 116.6 L 137.3 116.6 L 137.3 115.7 Q 138.9 114.6, 139.9 113.7 Q 140.9 112.8, 141.3 112.1 Q 141.8 111.3, 141.8 110.5 Q 141.8 109.6, 141.4 109.2 Q 141.0 108.7, 140.2 108.7 Q 139.5 108.7, 139.0 109.0 Q 138.6 109.3, 138.2 109.9 L 137.3 109.5 \" fill=\"#0000FF\"/>\n",
       "<path class=\"atom-4\" d=\"M 18.8 103.3 Q 18.8 100.1, 20.4 98.4 Q 22.0 96.6, 24.9 96.6 Q 27.8 96.6, 29.4 98.4 Q 31.0 100.1, 31.0 103.3 Q 31.0 106.6, 29.4 108.4 Q 27.8 110.2, 24.9 110.2 Q 22.0 110.2, 20.4 108.4 Q 18.8 106.6, 18.8 103.3 M 24.9 108.7 Q 26.9 108.7, 28.0 107.4 Q 29.1 106.0, 29.1 103.3 Q 29.1 100.7, 28.0 99.4 Q 26.9 98.1, 24.9 98.1 Q 22.9 98.1, 21.8 99.4 Q 20.7 100.7, 20.7 103.3 Q 20.7 106.0, 21.8 107.4 Q 22.9 108.7, 24.9 108.7 \" fill=\"#FF0000\"/>\n",
       "<path class=\"atom-5\" d=\"M 6.8 15.5 L 8.6 15.5 L 8.6 21.1 L 15.4 21.1 L 15.4 15.5 L 17.2 15.5 L 17.2 28.8 L 15.4 28.8 L 15.4 22.6 L 8.6 22.6 L 8.6 28.8 L 6.8 28.8 L 6.8 15.5 \" fill=\"#FF0000\"/>\n",
       "<path class=\"atom-5\" d=\"M 18.8 22.1 Q 18.8 18.9, 20.4 17.1 Q 22.0 15.3, 24.9 15.3 Q 27.8 15.3, 29.4 17.1 Q 31.0 18.9, 31.0 22.1 Q 31.0 25.3, 29.4 27.2 Q 27.8 29.0, 24.9 29.0 Q 22.0 29.0, 20.4 27.2 Q 18.8 25.3, 18.8 22.1 M 24.9 27.5 Q 26.9 27.5, 28.0 26.1 Q 29.1 24.8, 29.1 22.1 Q 29.1 19.5, 28.0 18.2 Q 26.9 16.8, 24.9 16.8 Q 22.9 16.8, 21.8 18.2 Q 20.7 19.5, 20.7 22.1 Q 20.7 24.8, 21.8 26.1 Q 22.9 27.5, 24.9 27.5 \" fill=\"#FF0000\"/>\n",
       "</svg></div>\n",
       "<div align=\"center\">864942730</div></td><td><div align=\"center\"><svg xmlns=\"http://www.w3.org/2000/svg\" xmlns:rdkit=\"http://www.rdkit.org/xml\" xmlns:xlink=\"http://www.w3.org/1999/xlink\" version=\"1.1\" baseProfile=\"full\" xml:space=\"preserve\" width=\"150px\" height=\"150px\" viewBox=\"0 0 150 150\">\n",
       "<!-- END OF HEADER -->\n",
       "<rect style=\"opacity:1.0;fill:#FFFFFF;stroke:none\" width=\"150.0\" height=\"150.0\" x=\"0.0\" y=\"0.0\"> </rect>\n",
       "<path class=\"bond-3 atom-3 atom-4\" d=\"M 48.4,62.7 L 24.9,103.3\" style=\"fill:none;fill-rule:evenodd;stroke:#CCFF00;stroke-width:10.0px;stroke-linecap:butt;stroke-linejoin:miter;stroke-opacity:1\"/>\n",
       "<ellipse cx=\"48.4\" cy=\"62.7\" rx=\"15.6\" ry=\"15.6\" class=\"atom-3\" style=\"fill:#CCFF00;fill-rule:evenodd;stroke:#CCFF00;stroke-width:1.0px;stroke-linecap:butt;stroke-linejoin:miter;stroke-opacity:1\"/>\n",
       "<ellipse cx=\"24.9\" cy=\"103.4\" rx=\"15.6\" ry=\"15.6\" class=\"atom-4\" style=\"fill:#00FF00;fill-rule:evenodd;stroke:#00FF00;stroke-width:1.0px;stroke-linecap:butt;stroke-linejoin:miter;stroke-opacity:1\"/>\n",
       "<path class=\"bond-0 atom-0 atom-1\" d=\"M 118.7,22.1 L 95.2,62.7\" style=\"fill:none;fill-rule:evenodd;stroke:#000000;stroke-width:2.0px;stroke-linecap:butt;stroke-linejoin:miter;stroke-opacity:1\"/>\n",
       "<path class=\"bond-1 atom-1 atom-2\" d=\"M 95.2,62.7 L 104.6,78.9\" style=\"fill:none;fill-rule:evenodd;stroke:#000000;stroke-width:2.0px;stroke-linecap:butt;stroke-linejoin:miter;stroke-opacity:1\"/>\n",
       "<path class=\"bond-1 atom-1 atom-2\" d=\"M 104.6,78.9 L 114.0,95.1\" style=\"fill:none;fill-rule:evenodd;stroke:#0000FF;stroke-width:2.0px;stroke-linecap:butt;stroke-linejoin:miter;stroke-opacity:1\"/>\n",
       "<path class=\"bond-2 atom-1 atom-3\" d=\"M 95.2,62.7 L 48.4,62.7\" style=\"fill:none;fill-rule:evenodd;stroke:#000000;stroke-width:2.0px;stroke-linecap:butt;stroke-linejoin:miter;stroke-opacity:1\"/>\n",
       "<path class=\"bond-3 atom-3 atom-4\" d=\"M 52.4,65.0 L 43.1,81.2\" style=\"fill:none;fill-rule:evenodd;stroke:#000000;stroke-width:2.0px;stroke-linecap:butt;stroke-linejoin:miter;stroke-opacity:1\"/>\n",
       "<path class=\"bond-3 atom-3 atom-4\" d=\"M 43.1,81.2 L 33.7,97.4\" style=\"fill:none;fill-rule:evenodd;stroke:#FF0000;stroke-width:2.0px;stroke-linecap:butt;stroke-linejoin:miter;stroke-opacity:1\"/>\n",
       "<path class=\"bond-3 atom-3 atom-4\" d=\"M 44.3,60.3 L 34.9,76.5\" style=\"fill:none;fill-rule:evenodd;stroke:#000000;stroke-width:2.0px;stroke-linecap:butt;stroke-linejoin:miter;stroke-opacity:1\"/>\n",
       "<path class=\"bond-3 atom-3 atom-4\" d=\"M 34.9,76.5 L 25.6,92.7\" style=\"fill:none;fill-rule:evenodd;stroke:#FF0000;stroke-width:2.0px;stroke-linecap:butt;stroke-linejoin:miter;stroke-opacity:1\"/>\n",
       "<path class=\"bond-4 atom-3 atom-5\" d=\"M 48.4,62.7 L 39.1,46.6\" style=\"fill:none;fill-rule:evenodd;stroke:#000000;stroke-width:2.0px;stroke-linecap:butt;stroke-linejoin:miter;stroke-opacity:1\"/>\n",
       "<path class=\"bond-4 atom-3 atom-5\" d=\"M 39.1,46.6 L 29.8,30.5\" style=\"fill:none;fill-rule:evenodd;stroke:#FF0000;stroke-width:2.0px;stroke-linecap:butt;stroke-linejoin:miter;stroke-opacity:1\"/>\n",
       "<path class=\"atom-2\" d=\"M 115.8 96.6 L 120.1 103.7 Q 120.5 104.4, 121.2 105.6 Q 121.9 106.9, 122.0 107.0 L 122.0 96.6 L 123.7 96.6 L 123.7 109.9 L 121.9 109.9 L 117.2 102.2 Q 116.7 101.3, 116.1 100.3 Q 115.6 99.3, 115.4 99.0 L 115.4 109.9 L 113.7 109.9 L 113.7 96.6 L 115.8 96.6 \" fill=\"#0000FF\"/>\n",
       "<path class=\"atom-2\" d=\"M 125.3 96.6 L 127.1 96.6 L 127.1 102.3 L 133.9 102.3 L 133.9 96.6 L 135.7 96.6 L 135.7 109.9 L 133.9 109.9 L 133.9 103.8 L 127.1 103.8 L 127.1 109.9 L 125.3 109.9 L 125.3 96.6 \" fill=\"#0000FF\"/>\n",
       "<path class=\"atom-2\" d=\"M 137.3 109.5 Q 137.6 108.6, 138.4 108.2 Q 139.2 107.7, 140.2 107.7 Q 141.5 107.7, 142.3 108.4 Q 143.0 109.1, 143.0 110.4 Q 143.0 111.7, 142.1 112.9 Q 141.1 114.1, 139.1 115.6 L 143.2 115.6 L 143.2 116.6 L 137.3 116.6 L 137.3 115.7 Q 138.9 114.6, 139.9 113.7 Q 140.9 112.8, 141.3 112.1 Q 141.8 111.3, 141.8 110.5 Q 141.8 109.6, 141.4 109.2 Q 141.0 108.7, 140.2 108.7 Q 139.5 108.7, 139.0 109.0 Q 138.6 109.3, 138.2 109.9 L 137.3 109.5 \" fill=\"#0000FF\"/>\n",
       "<path class=\"atom-4\" d=\"M 18.8 103.3 Q 18.8 100.1, 20.4 98.4 Q 22.0 96.6, 24.9 96.6 Q 27.8 96.6, 29.4 98.4 Q 31.0 100.1, 31.0 103.3 Q 31.0 106.6, 29.4 108.4 Q 27.8 110.2, 24.9 110.2 Q 22.0 110.2, 20.4 108.4 Q 18.8 106.6, 18.8 103.3 M 24.9 108.7 Q 26.9 108.7, 28.0 107.4 Q 29.1 106.0, 29.1 103.3 Q 29.1 100.7, 28.0 99.4 Q 26.9 98.1, 24.9 98.1 Q 22.9 98.1, 21.8 99.4 Q 20.7 100.7, 20.7 103.3 Q 20.7 106.0, 21.8 107.4 Q 22.9 108.7, 24.9 108.7 \" fill=\"#FF0000\"/>\n",
       "<path class=\"atom-5\" d=\"M 6.8 15.5 L 8.6 15.5 L 8.6 21.1 L 15.4 21.1 L 15.4 15.5 L 17.2 15.5 L 17.2 28.8 L 15.4 28.8 L 15.4 22.6 L 8.6 22.6 L 8.6 28.8 L 6.8 28.8 L 6.8 15.5 \" fill=\"#FF0000\"/>\n",
       "<path class=\"atom-5\" d=\"M 18.8 22.1 Q 18.8 18.9, 20.4 17.1 Q 22.0 15.3, 24.9 15.3 Q 27.8 15.3, 29.4 17.1 Q 31.0 18.9, 31.0 22.1 Q 31.0 25.3, 29.4 27.2 Q 27.8 29.0, 24.9 29.0 Q 22.0 29.0, 20.4 27.2 Q 18.8 25.3, 18.8 22.1 M 24.9 27.5 Q 26.9 27.5, 28.0 26.1 Q 29.1 24.8, 29.1 22.1 Q 29.1 19.5, 28.0 18.2 Q 26.9 16.8, 24.9 16.8 Q 22.9 16.8, 21.8 18.2 Q 20.7 19.5, 20.7 22.1 Q 20.7 24.8, 21.8 26.1 Q 22.9 27.5, 24.9 27.5 \" fill=\"#FF0000\"/>\n",
       "</svg></div>\n",
       "<div align=\"center\">1510328189</div></td></tr><tr><td><div align=\"center\"><svg xmlns=\"http://www.w3.org/2000/svg\" xmlns:rdkit=\"http://www.rdkit.org/xml\" xmlns:xlink=\"http://www.w3.org/1999/xlink\" version=\"1.1\" baseProfile=\"full\" xml:space=\"preserve\" width=\"150px\" height=\"150px\" viewBox=\"0 0 150 150\">\n",
       "<!-- END OF HEADER -->\n",
       "<rect style=\"opacity:1.0;fill:#FFFFFF;stroke:none\" width=\"150.0\" height=\"150.0\" x=\"0.0\" y=\"0.0\"> </rect>\n",
       "<ellipse cx=\"18.9\" cy=\"31.2\" rx=\"17.1\" ry=\"15.6\" class=\"atom-5\" style=\"fill:#00FF00;fill-rule:evenodd;stroke:#00FF00;stroke-width:1.0px;stroke-linecap:butt;stroke-linejoin:miter;stroke-opacity:1\"/>\n",
       "<path class=\"bond-0 atom-0 atom-1\" d=\"M 118.7,31.1 L 95.2,71.7\" style=\"fill:none;fill-rule:evenodd;stroke:#000000;stroke-width:2.0px;stroke-linecap:butt;stroke-linejoin:miter;stroke-opacity:1\"/>\n",
       "<path class=\"bond-1 atom-1 atom-2\" d=\"M 95.2,71.7 L 104.6,87.9\" style=\"fill:none;fill-rule:evenodd;stroke:#000000;stroke-width:2.0px;stroke-linecap:butt;stroke-linejoin:miter;stroke-opacity:1\"/>\n",
       "<path class=\"bond-1 atom-1 atom-2\" d=\"M 104.6,87.9 L 114.0,104.1\" style=\"fill:none;fill-rule:evenodd;stroke:#0000FF;stroke-width:2.0px;stroke-linecap:butt;stroke-linejoin:miter;stroke-opacity:1\"/>\n",
       "<path class=\"bond-2 atom-1 atom-3\" d=\"M 95.2,71.7 L 48.4,71.7\" style=\"fill:none;fill-rule:evenodd;stroke:#000000;stroke-width:2.0px;stroke-linecap:butt;stroke-linejoin:miter;stroke-opacity:1\"/>\n",
       "<path class=\"bond-3 atom-3 atom-4\" d=\"M 52.4,74.1 L 43.1,90.2\" style=\"fill:none;fill-rule:evenodd;stroke:#000000;stroke-width:2.0px;stroke-linecap:butt;stroke-linejoin:miter;stroke-opacity:1\"/>\n",
       "<path class=\"bond-3 atom-3 atom-4\" d=\"M 43.1,90.2 L 33.7,106.4\" style=\"fill:none;fill-rule:evenodd;stroke:#FF0000;stroke-width:2.0px;stroke-linecap:butt;stroke-linejoin:miter;stroke-opacity:1\"/>\n",
       "<path class=\"bond-3 atom-3 atom-4\" d=\"M 44.3,69.4 L 34.9,85.5\" style=\"fill:none;fill-rule:evenodd;stroke:#000000;stroke-width:2.0px;stroke-linecap:butt;stroke-linejoin:miter;stroke-opacity:1\"/>\n",
       "<path class=\"bond-3 atom-3 atom-4\" d=\"M 34.9,85.5 L 25.6,101.7\" style=\"fill:none;fill-rule:evenodd;stroke:#FF0000;stroke-width:2.0px;stroke-linecap:butt;stroke-linejoin:miter;stroke-opacity:1\"/>\n",
       "<path class=\"bond-4 atom-3 atom-5\" d=\"M 48.4,71.7 L 39.1,55.6\" style=\"fill:none;fill-rule:evenodd;stroke:#000000;stroke-width:2.0px;stroke-linecap:butt;stroke-linejoin:miter;stroke-opacity:1\"/>\n",
       "<path class=\"bond-4 atom-3 atom-5\" d=\"M 39.1,55.6 L 29.8,39.6\" style=\"fill:none;fill-rule:evenodd;stroke:#FF0000;stroke-width:2.0px;stroke-linecap:butt;stroke-linejoin:miter;stroke-opacity:1\"/>\n",
       "<path class=\"atom-2\" d=\"M 115.8 105.7 L 120.1 112.7 Q 120.5 113.4, 121.2 114.7 Q 121.9 115.9, 122.0 116.0 L 122.0 105.7 L 123.7 105.7 L 123.7 119.0 L 121.9 119.0 L 117.2 111.3 Q 116.7 110.4, 116.1 109.3 Q 115.6 108.3, 115.4 108.0 L 115.4 119.0 L 113.7 119.0 L 113.7 105.7 L 115.8 105.7 \" fill=\"#0000FF\"/>\n",
       "<path class=\"atom-2\" d=\"M 125.3 105.7 L 127.1 105.7 L 127.1 111.3 L 133.9 111.3 L 133.9 105.7 L 135.7 105.7 L 135.7 119.0 L 133.9 119.0 L 133.9 112.8 L 127.1 112.8 L 127.1 119.0 L 125.3 119.0 L 125.3 105.7 \" fill=\"#0000FF\"/>\n",
       "<path class=\"atom-2\" d=\"M 137.3 118.5 Q 137.6 117.7, 138.4 117.2 Q 139.2 116.7, 140.2 116.7 Q 141.5 116.7, 142.3 117.5 Q 143.0 118.2, 143.0 119.5 Q 143.0 120.8, 142.1 122.0 Q 141.1 123.2, 139.1 124.6 L 143.2 124.6 L 143.2 125.6 L 137.3 125.6 L 137.3 124.8 Q 138.9 123.6, 139.9 122.8 Q 140.9 121.9, 141.3 121.1 Q 141.8 120.3, 141.8 119.5 Q 141.8 118.7, 141.4 118.2 Q 141.0 117.7, 140.2 117.7 Q 139.5 117.7, 139.0 118.0 Q 138.6 118.3, 138.2 118.9 L 137.3 118.5 \" fill=\"#0000FF\"/>\n",
       "<path class=\"atom-4\" d=\"M 18.8 112.4 Q 18.8 109.2, 20.4 107.4 Q 22.0 105.6, 24.9 105.6 Q 27.8 105.6, 29.4 107.4 Q 31.0 109.2, 31.0 112.4 Q 31.0 115.6, 29.4 117.4 Q 27.8 119.3, 24.9 119.3 Q 22.0 119.3, 20.4 117.4 Q 18.8 115.6, 18.8 112.4 M 24.9 117.8 Q 26.9 117.8, 28.0 116.4 Q 29.1 115.0, 29.1 112.4 Q 29.1 109.8, 28.0 108.4 Q 26.9 107.1, 24.9 107.1 Q 22.9 107.1, 21.8 108.4 Q 20.7 109.7, 20.7 112.4 Q 20.7 115.1, 21.8 116.4 Q 22.9 117.8, 24.9 117.8 \" fill=\"#FF0000\"/>\n",
       "<path class=\"atom-5\" d=\"M 6.8 24.5 L 8.6 24.5 L 8.6 30.2 L 15.4 30.2 L 15.4 24.5 L 17.2 24.5 L 17.2 37.8 L 15.4 37.8 L 15.4 31.7 L 8.6 31.7 L 8.6 37.8 L 6.8 37.8 L 6.8 24.5 \" fill=\"#FF0000\"/>\n",
       "<path class=\"atom-5\" d=\"M 18.8 31.1 Q 18.8 28.0, 20.4 26.2 Q 22.0 24.4, 24.9 24.4 Q 27.8 24.4, 29.4 26.2 Q 31.0 28.0, 31.0 31.1 Q 31.0 34.4, 29.4 36.2 Q 27.8 38.0, 24.9 38.0 Q 22.0 38.0, 20.4 36.2 Q 18.8 34.4, 18.8 31.1 M 24.9 36.5 Q 26.9 36.5, 28.0 35.2 Q 29.1 33.8, 29.1 31.1 Q 29.1 28.5, 28.0 27.2 Q 26.9 25.9, 24.9 25.9 Q 22.9 25.9, 21.8 27.2 Q 20.7 28.5, 20.7 31.1 Q 20.7 33.8, 21.8 35.2 Q 22.9 36.5, 24.9 36.5 \" fill=\"#FF0000\"/>\n",
       "</svg></div>\n",
       "<div align=\"center\">864662311</div></td><td><div align=\"center\"><svg xmlns=\"http://www.w3.org/2000/svg\" xmlns:rdkit=\"http://www.rdkit.org/xml\" xmlns:xlink=\"http://www.w3.org/1999/xlink\" version=\"1.1\" baseProfile=\"full\" xml:space=\"preserve\" width=\"150px\" height=\"150px\" viewBox=\"0 0 150 150\">\n",
       "<!-- END OF HEADER -->\n",
       "<rect style=\"opacity:1.0;fill:#FFFFFF;stroke:none\" width=\"150.0\" height=\"150.0\" x=\"0.0\" y=\"0.0\"> </rect>\n",
       "<path class=\"bond-4 atom-3 atom-5\" d=\"M 48.4,71.7 L 24.9,31.1\" style=\"fill:none;fill-rule:evenodd;stroke:#CCFF00;stroke-width:10.0px;stroke-linecap:butt;stroke-linejoin:miter;stroke-opacity:1\"/>\n",
       "<ellipse cx=\"48.4\" cy=\"71.7\" rx=\"15.6\" ry=\"15.6\" class=\"atom-3\" style=\"fill:#CCFF00;fill-rule:evenodd;stroke:#CCFF00;stroke-width:1.0px;stroke-linecap:butt;stroke-linejoin:miter;stroke-opacity:1\"/>\n",
       "<ellipse cx=\"18.9\" cy=\"31.2\" rx=\"17.1\" ry=\"15.6\" class=\"atom-5\" style=\"fill:#00FF00;fill-rule:evenodd;stroke:#00FF00;stroke-width:1.0px;stroke-linecap:butt;stroke-linejoin:miter;stroke-opacity:1\"/>\n",
       "<path class=\"bond-0 atom-0 atom-1\" d=\"M 118.7,31.1 L 95.2,71.7\" style=\"fill:none;fill-rule:evenodd;stroke:#000000;stroke-width:2.0px;stroke-linecap:butt;stroke-linejoin:miter;stroke-opacity:1\"/>\n",
       "<path class=\"bond-1 atom-1 atom-2\" d=\"M 95.2,71.7 L 104.6,87.9\" style=\"fill:none;fill-rule:evenodd;stroke:#000000;stroke-width:2.0px;stroke-linecap:butt;stroke-linejoin:miter;stroke-opacity:1\"/>\n",
       "<path class=\"bond-1 atom-1 atom-2\" d=\"M 104.6,87.9 L 114.0,104.1\" style=\"fill:none;fill-rule:evenodd;stroke:#0000FF;stroke-width:2.0px;stroke-linecap:butt;stroke-linejoin:miter;stroke-opacity:1\"/>\n",
       "<path class=\"bond-2 atom-1 atom-3\" d=\"M 95.2,71.7 L 48.4,71.7\" style=\"fill:none;fill-rule:evenodd;stroke:#000000;stroke-width:2.0px;stroke-linecap:butt;stroke-linejoin:miter;stroke-opacity:1\"/>\n",
       "<path class=\"bond-3 atom-3 atom-4\" d=\"M 52.4,74.1 L 43.1,90.2\" style=\"fill:none;fill-rule:evenodd;stroke:#000000;stroke-width:2.0px;stroke-linecap:butt;stroke-linejoin:miter;stroke-opacity:1\"/>\n",
       "<path class=\"bond-3 atom-3 atom-4\" d=\"M 43.1,90.2 L 33.7,106.4\" style=\"fill:none;fill-rule:evenodd;stroke:#FF0000;stroke-width:2.0px;stroke-linecap:butt;stroke-linejoin:miter;stroke-opacity:1\"/>\n",
       "<path class=\"bond-3 atom-3 atom-4\" d=\"M 44.3,69.4 L 34.9,85.5\" style=\"fill:none;fill-rule:evenodd;stroke:#000000;stroke-width:2.0px;stroke-linecap:butt;stroke-linejoin:miter;stroke-opacity:1\"/>\n",
       "<path class=\"bond-3 atom-3 atom-4\" d=\"M 34.9,85.5 L 25.6,101.7\" style=\"fill:none;fill-rule:evenodd;stroke:#FF0000;stroke-width:2.0px;stroke-linecap:butt;stroke-linejoin:miter;stroke-opacity:1\"/>\n",
       "<path class=\"bond-4 atom-3 atom-5\" d=\"M 48.4,71.7 L 39.1,55.6\" style=\"fill:none;fill-rule:evenodd;stroke:#000000;stroke-width:2.0px;stroke-linecap:butt;stroke-linejoin:miter;stroke-opacity:1\"/>\n",
       "<path class=\"bond-4 atom-3 atom-5\" d=\"M 39.1,55.6 L 29.8,39.6\" style=\"fill:none;fill-rule:evenodd;stroke:#FF0000;stroke-width:2.0px;stroke-linecap:butt;stroke-linejoin:miter;stroke-opacity:1\"/>\n",
       "<path class=\"atom-2\" d=\"M 115.8 105.7 L 120.1 112.7 Q 120.5 113.4, 121.2 114.7 Q 121.9 115.9, 122.0 116.0 L 122.0 105.7 L 123.7 105.7 L 123.7 119.0 L 121.9 119.0 L 117.2 111.3 Q 116.7 110.4, 116.1 109.3 Q 115.6 108.3, 115.4 108.0 L 115.4 119.0 L 113.7 119.0 L 113.7 105.7 L 115.8 105.7 \" fill=\"#0000FF\"/>\n",
       "<path class=\"atom-2\" d=\"M 125.3 105.7 L 127.1 105.7 L 127.1 111.3 L 133.9 111.3 L 133.9 105.7 L 135.7 105.7 L 135.7 119.0 L 133.9 119.0 L 133.9 112.8 L 127.1 112.8 L 127.1 119.0 L 125.3 119.0 L 125.3 105.7 \" fill=\"#0000FF\"/>\n",
       "<path class=\"atom-2\" d=\"M 137.3 118.5 Q 137.6 117.7, 138.4 117.2 Q 139.2 116.7, 140.2 116.7 Q 141.5 116.7, 142.3 117.5 Q 143.0 118.2, 143.0 119.5 Q 143.0 120.8, 142.1 122.0 Q 141.1 123.2, 139.1 124.6 L 143.2 124.6 L 143.2 125.6 L 137.3 125.6 L 137.3 124.8 Q 138.9 123.6, 139.9 122.8 Q 140.9 121.9, 141.3 121.1 Q 141.8 120.3, 141.8 119.5 Q 141.8 118.7, 141.4 118.2 Q 141.0 117.7, 140.2 117.7 Q 139.5 117.7, 139.0 118.0 Q 138.6 118.3, 138.2 118.9 L 137.3 118.5 \" fill=\"#0000FF\"/>\n",
       "<path class=\"atom-4\" d=\"M 18.8 112.4 Q 18.8 109.2, 20.4 107.4 Q 22.0 105.6, 24.9 105.6 Q 27.8 105.6, 29.4 107.4 Q 31.0 109.2, 31.0 112.4 Q 31.0 115.6, 29.4 117.4 Q 27.8 119.3, 24.9 119.3 Q 22.0 119.3, 20.4 117.4 Q 18.8 115.6, 18.8 112.4 M 24.9 117.8 Q 26.9 117.8, 28.0 116.4 Q 29.1 115.0, 29.1 112.4 Q 29.1 109.8, 28.0 108.4 Q 26.9 107.1, 24.9 107.1 Q 22.9 107.1, 21.8 108.4 Q 20.7 109.7, 20.7 112.4 Q 20.7 115.1, 21.8 116.4 Q 22.9 117.8, 24.9 117.8 \" fill=\"#FF0000\"/>\n",
       "<path class=\"atom-5\" d=\"M 6.8 24.5 L 8.6 24.5 L 8.6 30.2 L 15.4 30.2 L 15.4 24.5 L 17.2 24.5 L 17.2 37.8 L 15.4 37.8 L 15.4 31.7 L 8.6 31.7 L 8.6 37.8 L 6.8 37.8 L 6.8 24.5 \" fill=\"#FF0000\"/>\n",
       "<path class=\"atom-5\" d=\"M 18.8 31.1 Q 18.8 28.0, 20.4 26.2 Q 22.0 24.4, 24.9 24.4 Q 27.8 24.4, 29.4 26.2 Q 31.0 28.0, 31.0 31.1 Q 31.0 34.4, 29.4 36.2 Q 27.8 38.0, 24.9 38.0 Q 22.0 38.0, 20.4 36.2 Q 18.8 34.4, 18.8 31.1 M 24.9 36.5 Q 26.9 36.5, 28.0 35.2 Q 29.1 33.8, 29.1 31.1 Q 29.1 28.5, 28.0 27.2 Q 26.9 25.9, 24.9 25.9 Q 22.9 25.9, 21.8 27.2 Q 20.7 28.5, 20.7 31.1 Q 20.7 33.8, 21.8 35.2 Q 22.9 36.5, 24.9 36.5 \" fill=\"#FF0000\"/>\n",
       "</svg></div>\n",
       "<div align=\"center\">1533864325</div></td></table>"
      ],
      "text/plain": [
       "<mol2vec.helpers.IdentifierTable at 0x7f074c76f790>"
      ]
     },
     "execution_count": 54,
     "metadata": {},
     "output_type": "execute_result"
    }
   ],
   "source": [
    "it"
   ]
  },
  {
   "cell_type": "markdown",
   "metadata": {},
   "source": [
    "Sentences can be used to generate a corpus that can be used to train Mol2vec model. To generate high quality embeddings of substructures we recommend using a big database of molecules (millions) and use the command line scripts to prepare the corpus and train Mol2vec model.  \n",
    "Type `mol2vec -h` into the command line to learn more.\n"
   ]
  },
  {
   "cell_type": "markdown",
   "metadata": {},
   "source": [
    "### Exploring Mol2vec embeddings"
   ]
  },
  {
   "cell_type": "markdown",
   "metadata": {},
   "source": [
    "Mol2vec uses [gensim implementation of Word2vec](https://radimrehurek.com/gensim/models/word2vec.html)"
   ]
  },
  {
   "cell_type": "code",
   "execution_count": 55,
   "metadata": {
    "tags": []
   },
   "outputs": [],
   "source": [
    "from gensim.models import word2vec"
   ]
  },
  {
   "cell_type": "markdown",
   "metadata": {},
   "source": [
    "Load a pre-trained Mol2vec model which was trained on 20 million compounds downloaded from [ZINC](http://zinc.docking.org/) using:\n",
    "- radius 1\n",
    "- `UNK` to replace all identifiers that appear less than 4 times\n",
    "- skip-gram and window size of 10\n",
    "- resulting in 300 dimensional embeddings"
   ]
  },
  {
   "cell_type": "code",
   "execution_count": 56,
   "metadata": {
    "tags": []
   },
   "outputs": [],
   "source": [
    "model = word2vec.Word2Vec.load('mol2vec/examples/models/model_300dim.pkl')"
   ]
  },
  {
   "cell_type": "markdown",
   "metadata": {},
   "source": [
    "Number of unique identifiers represented as vectors"
   ]
  },
  {
   "cell_type": "code",
   "execution_count": 57,
   "metadata": {},
   "outputs": [
    {
     "data": {
      "text/plain": [
       "21003"
      ]
     },
     "execution_count": 57,
     "metadata": {},
     "output_type": "execute_result"
    }
   ],
   "source": [
    "# len(model.wv.vocab.keys()) # only works in version 3.x of Gensim\n",
    "len(model.wv.index_to_key)"
   ]
  },
  {
   "cell_type": "markdown",
   "metadata": {},
   "source": [
    "Feature vector representing above depicted identifier **`2246728737`**"
   ]
  },
  {
   "cell_type": "code",
   "execution_count": 58,
   "metadata": {},
   "outputs": [
    {
     "name": "stdout",
     "output_type": "stream",
     "text": [
      "300\n"
     ]
    }
   ],
   "source": [
    "# model.wv.word_vec('2246728737') # soon depricated\n",
    "print(len(model.wv.get_vector('2246728737')))\n",
    "# model.wv.get_vector('2246728737')"
   ]
  },
  {
   "cell_type": "markdown",
   "metadata": {},
   "source": [
    "Extraction of identifiers from molecules (amino acids)"
   ]
  },
  {
   "cell_type": "code",
   "execution_count": 59,
   "metadata": {
    "tags": []
   },
   "outputs": [],
   "source": [
    "aa_sentences = [mol2alt_sentence(x, 1) for x in aas]\n",
    "flat_list = [item for sublist in aa_sentences for item in sublist]\n",
    "aa_identifiers_unique = set(flat_list)"
   ]
  },
  {
   "cell_type": "code",
   "execution_count": 60,
   "metadata": {
    "tags": []
   },
   "outputs": [],
   "source": [
    "df_vec = pd.DataFrame()\n",
    "df_vec['identifier'] = list(aa_identifiers_unique)\n",
    "df_vec.index = df_vec['identifier']"
   ]
  },
  {
   "cell_type": "markdown",
   "metadata": {},
   "source": [
    "Number of unique identifiers in amino acids"
   ]
  },
  {
   "cell_type": "code",
   "execution_count": 61,
   "metadata": {},
   "outputs": [
    {
     "data": {
      "text/plain": [
       "75"
      ]
     },
     "execution_count": 61,
     "metadata": {},
     "output_type": "execute_result"
    }
   ],
   "source": [
    "len(df_vec)"
   ]
  },
  {
   "cell_type": "markdown",
   "metadata": {},
   "source": [
    "Projection of 300 dimensional vectors (representing identifiers) to 2 dimensions using a combination of PCA and t-SNE.  \n",
    "We recommend fitting PCA/t-SNE using all identifiers to get better projections."
   ]
  },
  {
   "cell_type": "code",
   "execution_count": 62,
   "metadata": {
    "tags": []
   },
   "outputs": [],
   "source": [
    "from sklearn.decomposition import PCA\n",
    "from sklearn.manifold import TSNE"
   ]
  },
  {
   "cell_type": "code",
   "execution_count": 63,
   "metadata": {},
   "outputs": [
    {
     "name": "stderr",
     "output_type": "stream",
     "text": [
      "/tmp/ipykernel_86/254646706.py:3: DeprecationWarning: Call to deprecated `word_vec` (Use get_vector instead).\n",
      "  tsne_pca = tsne_model.fit_transform(pca_model.fit_transform([model.wv.word_vec(x) for x in aa_identifiers_unique]))\n",
      "/home/jovyan/my-conda-envs/mol2vec/lib/python3.8/site-packages/sklearn/manifold/_t_sne.py:795: FutureWarning: The default initialization in TSNE will change from 'random' to 'pca' in 1.2.\n",
      "  warnings.warn(\n",
      "/home/jovyan/my-conda-envs/mol2vec/lib/python3.8/site-packages/sklearn/manifold/_t_sne.py:805: FutureWarning: The default learning rate in TSNE will change from 200.0 to 'auto' in 1.2.\n",
      "  warnings.warn(\n"
     ]
    }
   ],
   "source": [
    "pca_model = PCA(n_components=30)\n",
    "tsne_model = TSNE(n_components=2, perplexity=10, n_iter=1000, metric = 'cosine')\n",
    "tsne_pca = tsne_model.fit_transform(pca_model.fit_transform([model.wv.word_vec(x) for x in aa_identifiers_unique]))"
   ]
  },
  {
   "cell_type": "markdown",
   "metadata": {},
   "source": [
    "Save the two principal components to the data frame"
   ]
  },
  {
   "cell_type": "code",
   "execution_count": 64,
   "metadata": {},
   "outputs": [],
   "source": [
    "df_vec['PCA-t-SNE-c1'] = tsne_pca.T[0]\n",
    "df_vec['PCA-t-SNE-c2'] = tsne_pca.T[1]"
   ]
  },
  {
   "cell_type": "code",
   "execution_count": 65,
   "metadata": {},
   "outputs": [
    {
     "data": {
      "text/html": [
       "<div>\n",
       "<style scoped>\n",
       "    .dataframe tbody tr th:only-of-type {\n",
       "        vertical-align: middle;\n",
       "    }\n",
       "\n",
       "    .dataframe tbody tr th {\n",
       "        vertical-align: top;\n",
       "    }\n",
       "\n",
       "    .dataframe thead th {\n",
       "        text-align: right;\n",
       "    }\n",
       "</style>\n",
       "<table border=\"1\" class=\"dataframe\">\n",
       "  <thead>\n",
       "    <tr style=\"text-align: right;\">\n",
       "      <th></th>\n",
       "      <th>identifier</th>\n",
       "      <th>PCA-t-SNE-c1</th>\n",
       "      <th>PCA-t-SNE-c2</th>\n",
       "    </tr>\n",
       "    <tr>\n",
       "      <th>identifier</th>\n",
       "      <th></th>\n",
       "      <th></th>\n",
       "      <th></th>\n",
       "    </tr>\n",
       "  </thead>\n",
       "  <tbody>\n",
       "    <tr>\n",
       "      <th>3542456614</th>\n",
       "      <td>3542456614</td>\n",
       "      <td>-85.448418</td>\n",
       "      <td>-80.266991</td>\n",
       "    </tr>\n",
       "    <tr>\n",
       "      <th>1280488931</th>\n",
       "      <td>1280488931</td>\n",
       "      <td>-20.055471</td>\n",
       "      <td>210.930939</td>\n",
       "    </tr>\n",
       "    <tr>\n",
       "      <th>847957139</th>\n",
       "      <td>847957139</td>\n",
       "      <td>148.215973</td>\n",
       "      <td>-179.886719</td>\n",
       "    </tr>\n",
       "  </tbody>\n",
       "</table>\n",
       "</div>"
      ],
      "text/plain": [
       "            identifier  PCA-t-SNE-c1  PCA-t-SNE-c2\n",
       "identifier                                        \n",
       "3542456614  3542456614    -85.448418    -80.266991\n",
       "1280488931  1280488931    -20.055471    210.930939\n",
       "847957139    847957139    148.215973   -179.886719"
      ]
     },
     "execution_count": 65,
     "metadata": {},
     "output_type": "execute_result"
    }
   ],
   "source": [
    "df_vec.head(3)"
   ]
  },
  {
   "cell_type": "code",
   "execution_count": 66,
   "metadata": {},
   "outputs": [],
   "source": [
    "projections = df_vec.to_dict()"
   ]
  },
  {
   "cell_type": "markdown",
   "metadata": {},
   "source": [
    "Function that extracts projected values for plotting"
   ]
  },
  {
   "cell_type": "code",
   "execution_count": 67,
   "metadata": {},
   "outputs": [],
   "source": [
    "def get_values(identifier, projections):\n",
    "    return np.array((projections['PCA-t-SNE-c1'][str(identifier)],projections['PCA-t-SNE-c2'][str(identifier)]))"
   ]
  },
  {
   "cell_type": "code",
   "execution_count": 68,
   "metadata": {},
   "outputs": [
    {
     "data": {
      "text/plain": [
       "array([-103.64774323,  -52.33383179])"
      ]
     },
     "execution_count": 68,
     "metadata": {},
     "output_type": "execute_result"
    }
   ],
   "source": [
    "get_values(2246728737, projections)"
   ]
  },
  {
   "cell_type": "markdown",
   "metadata": {},
   "source": [
    "### Plotting of an amino acid (ALA) substructure vectors"
   ]
  },
  {
   "cell_type": "markdown",
   "metadata": {},
   "source": [
    "Substructure vectors are presented cyan and molecule vector violet."
   ]
  },
  {
   "cell_type": "code",
   "execution_count": 69,
   "metadata": {},
   "outputs": [],
   "source": [
    "aa_values = [get_values(x, projections) for x in aa_sentences[0]]"
   ]
  },
  {
   "cell_type": "code",
   "execution_count": 70,
   "metadata": {},
   "outputs": [
    {
     "data": {
      "image/png": "[encoded data removed]",
      "text/plain": [
       "<Figure size 640x480 with 1 Axes>"
      ]
     },
     "metadata": {},
     "output_type": "display_data"
    }
   ],
   "source": [
    "plot_2D_vectors(aa_values, vector_labels=aa_sentences[0] + ['ALA'], \n",
    "                );"
   ]
  },
  {
   "cell_type": "markdown",
   "metadata": {},
   "source": [
    "### Plotting all amino acids in grid plot"
   ]
  },
  {
   "cell_type": "code",
   "execution_count": 71,
   "metadata": {},
   "outputs": [
    {
     "data": {
      "image/png": "[encoded data removed]",
      "text/plain": [
       "<Figure size 1280x880 with 20 Axes>"
      ]
     },
     "metadata": {},
     "output_type": "display_data"
    }
   ],
   "source": [
    "f, ((ALA, ARG, ASN, ASP), (CYS, GLU, GLN, GLY), (HIS, ILE, LEU, LYS), (MET, PHE, PRO, SER), (THR, TRP, TYR, VAL)) = plt.subplots(5,4, \n",
    "                                                    squeeze=True, sharex=True, sharey=True, \n",
    "                                                    figsize=(6.4*2,  4.4*2))\n",
    "\n",
    "for aa,name,ax in zip(aas, aa_codes, (ALA, ARG, ASN, ASP, CYS, GLU, GLN, GLY, HIS, ILE, LEU, LYS, MET, PHE, PRO, SER, THR, TRP, TYR, VAL)):\n",
    "    pca_subs = [get_values(x, projections) for x in mol2alt_sentence(aa, 1)]\n",
    "    plot_2D_vectors(pca_subs, ax=ax, min_max_x=(-1000,1000), min_max_y=(-2000, 2000))\n",
    "    ax.get_xaxis().set_visible(False)\n",
    "    ax.get_yaxis().set_visible(False)\n",
    "    ax.text(0.95, 0.01, u\"%s\" % name,\n",
    "            verticalalignment='bottom', horizontalalignment='right',\n",
    "            transform=ax.transAxes, weight='bold',\n",
    "            fontsize=10)"
   ]
  },
  {
   "cell_type": "code",
   "execution_count": null,
   "metadata": {},
   "outputs": [],
   "source": []
  }
 ],
 "metadata": {
  "kernelspec": {
   "display_name": "Python [conda env:mol2vec]",
   "language": "python",
   "name": "conda-env-mol2vec-py"
  },
  "language_info": {
   "codemirror_mode": {
    "name": "ipython",
    "version": 3
   },
   "file_extension": ".py",
   "mimetype": "text/x-python",
   "name": "python",
   "nbconvert_exporter": "python",
   "pygments_lexer": "ipython3",
   "version": "3.8.13"
  }
 },
 "nbformat": 4,
 "nbformat_minor": 4
}
